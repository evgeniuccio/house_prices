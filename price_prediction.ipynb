{
 "cells": [
  {
   "cell_type": "markdown",
   "metadata": {},
   "source": [
    "The competition \"House Prices - Advanced Regression Techniques\" from Kaggle <br>https://www.kaggle.com/c/house-prices-advanced-regression-techniques\n",
    "<br>Predict sales prices and practice feature engineering, RFs, and gradient boosting"
   ]
  },
  {
   "cell_type": "code",
   "execution_count": 1,
   "metadata": {},
   "outputs": [],
   "source": [
    "import pandas as pd\n",
    "import numpy as np\n",
    "import scipy.stats as ss\n",
    "from scipy.stats import skew\n",
    "from scipy.special import boxcox1p\n",
    "from matplotlib import pyplot as plt\n",
    "import seaborn as sns\n",
    "\n",
    "from sklearn.pipeline import Pipeline\n",
    "from sklearn.base import clone\n",
    "from sklearn import metrics\n",
    "\n",
    "from sklearn import utils\n",
    "from sklearn.metrics import make_scorer\n",
    "from sklearn.model_selection import train_test_split\n",
    "from sklearn.model_selection import GridSearchCV\n",
    "from sklearn.model_selection import RandomizedSearchCV\n",
    "from sklearn.model_selection import cross_val_score\n",
    "from sklearn.model_selection import LeaveOneOut\n",
    "from sklearn.model_selection import ShuffleSplit\n",
    "\n",
    "from sklearn.cluster import DBSCAN\n",
    "from sklearn.ensemble import IsolationForest\n",
    "\n",
    "from sklearn.preprocessing import StandardScaler\n",
    "from sklearn.preprocessing import RobustScaler\n",
    "from sklearn.preprocessing import MinMaxScaler\n",
    "from sklearn.preprocessing import PolynomialFeatures\n",
    "from sklearn import preprocessing\n",
    "from sklearn.decomposition import PCA\n",
    "from scipy.stats import skew\n",
    "from scipy.special import boxcox1p\n",
    "\n",
    "from sklearn.svm import SVR\n",
    "from sklearn.svm import LinearSVR\n",
    "\n",
    "from sklearn.neural_network import MLPRegressor\n",
    "\n",
    "from sklearn.linear_model import Lasso\n",
    "from sklearn.linear_model import ElasticNet\n",
    "from sklearn.linear_model import Ridge\n",
    "from sklearn.linear_model import BayesianRidge\n",
    "from sklearn.linear_model import LassoLarsIC\n",
    "from sklearn.kernel_ridge import KernelRidge\n",
    "from xgboost import XGBRegressor\n",
    "\n",
    "from sklearn.ensemble import RandomForestRegressor\n",
    "from sklearn.ensemble import GradientBoostingRegressor\n",
    "\n",
    "sns.set_style('darkgrid')\n",
    "\n",
    "def plot_correlation(X, y):\n",
    "    correlation_analyse = pd.concat([X, y], axis=1)\n",
    "    corrmatrix = correlation_analyse.corr().drop(['SalePrice'])\n",
    "    corrs = corrmatrix['SalePrice'].sort_values(ascending=False)\n",
    "\n",
    "    f, ax = plt.subplots(ncols=2, figsize=(10, 5))\n",
    "    sns.barplot(x=corrs[:25].index, y=corrs[:25], ax=ax[0], color='gray')\n",
    "    f.suptitle('Correlation with Target')\n",
    "    ax[0].tick_params(rotation=90)\n",
    "    sns.barplot(x=corrs[-25:].index, y=corrs[-25:], ax=ax[1], color='gray')\n",
    "    ax[1].tick_params(rotation=90)\n",
    "    return corrs\n",
    "\n",
    "def missed_values_barplot(data):\n",
    "    missed_values = {}\n",
    "    for column in data.columns:\n",
    "        missed_values[column] = np.sum(data[column].isna())\n",
    "    missed_values_pd = pd.Series(data=missed_values)\n",
    "    missed_values_pd.sort_values(ascending=False, inplace=True)\n",
    "    sns.barplot(x=missed_values_pd.index[:25], y=missed_values_pd[:25], color='gray')\n",
    "    plt.tick_params(rotation=90)\n",
    "    \n",
    "\n",
    "def RMSLE(y_predicted, labels):\n",
    "    if len(y_predicted) != len(labels):\n",
    "        return -1\n",
    "    return np.sqrt(np.mean(np.square(np.log1p(y_predicted) - np.log1p(labels))))\n",
    "rmsle = make_scorer(RMSLE, greater_is_better=False)\n",
    "\n",
    "\n",
    "def filling_NA(data, column_list, value=None, mode_flag=False):\n",
    "    if mode_flag == True:\n",
    "        for column in column_list:\n",
    "            data[column].fillna(data[column].mode()[0], inplace=True)\n",
    "    else:\n",
    "        for column in column_list:\n",
    "            data[column].fillna(value, inplace=True)\n",
    "            \n",
    "def strategy_for_filling(data, columns_for_inpute):\n",
    "    f, ax = plt.subplots(ncols=1, nrows=len(columns_for_inpute), figsize=(5, 7 * len(columns_for_inpute)))\n",
    "    ravel_ax = np.ravel(ax)\n",
    "    for index, ax in enumerate(ravel_ax):\n",
    "        sns.countplot(x=columns_for_inpute[index], data=data, color='gray', ax=ax)\n",
    "        for label in ax.get_xticklabels():\n",
    "            label.set_rotation(90)         \n",
    "\n",
    "def cramers_corrected_2_features(confusion_matrix):\n",
    "    \"\"\" calculate Cramers V statistic for categorial-categorial association.\n",
    "        uses correction from Bergsma and Wicher, \n",
    "        Journal of the Korean Statistical Society 42 (2013): 323-328\n",
    "    \"\"\"\n",
    "    chi2 = ss.chi2_contingency(confusion_matrix)[0]\n",
    "    n = confusion_matrix.sum()\n",
    "    phi2 = chi2/n\n",
    "    r,k = confusion_matrix.shape\n",
    "    phi2corr = max(0, phi2 - ((k-1)*(r-1))/(n-1))    \n",
    "    rcorr = r - ((r-1)**2)/(n-1)\n",
    "    kcorr = k - ((k-1)**2)/(n-1)\n",
    "    return np.sqrt(phi2corr / min( (kcorr-1), (rcorr-1)))\n",
    "\n",
    "def cramers_corr(data, cat_features):\n",
    "    cramers_correlation = pd.DataFrame(index=cat_features, columns=cat_features)\n",
    "    for column_x in cat_features:\n",
    "        for column_y in cat_features:\n",
    "            confusion_matrix = pd.crosstab(data[column_x], data[column_y]).as_matrix()\n",
    "            cramers_correlation.loc[column_x, column_y] = cramers_corrected_2_features(confusion_matrix)\n",
    "    f, ax = plt.subplots(figsize=(20, 20))\n",
    "    sns.heatmap(cramers_correlation.astype(float), annot=True, fmt=\"0.1f\", ax=ax);\n",
    "            \n",
    "train_data = pd.read_csv('train.csv')\n",
    "test_data = pd.read_csv('test.csv')"
   ]
  },
  {
   "cell_type": "markdown",
   "metadata": {},
   "source": [
    "## Remove outliers"
   ]
  },
  {
   "cell_type": "code",
   "execution_count": 2,
   "metadata": {},
   "outputs": [],
   "source": [
    "#sns.scatterplot(x=train_data['GrLivArea'], y=train_data['SalePrice'], color='gray')\n",
    "drop_indexes = train_data[train_data['GrLivArea'] > 4000].index\n",
    "train_data.drop(labels=drop_indexes, axis=0, inplace=True)"
   ]
  },
  {
   "cell_type": "code",
   "execution_count": 3,
   "metadata": {},
   "outputs": [],
   "source": [
    "#sns.scatterplot(x=train_data['GrLivArea'], y=train_data['SalePrice'], color='gray');"
   ]
  },
  {
   "cell_type": "code",
   "execution_count": 4,
   "metadata": {},
   "outputs": [
    {
     "name": "stdout",
     "output_type": "stream",
     "text": [
      "Train_data size:  (1456, 79)\n",
      "Label size:  (1456,)\n",
      "Test data size:  (1459, 79)\n",
      "All size:  (2915, 79)\n"
     ]
    }
   ],
   "source": [
    "train_data.index = range(len(train_data.index))\n",
    "train_y = train_data.loc[:, \"SalePrice\"]\n",
    "train_data = train_data.drop([\"Id\", \"SalePrice\"], axis=1)\n",
    "test_ids = test_data['Id']\n",
    "test_data = test_data.drop([\"Id\"], axis=1)\n",
    "\n",
    "train_size = train_data.shape[0]\n",
    "test_size = test_data.shape[0]\n",
    "data = pd.concat([train_data, test_data], axis=0, ignore_index=True)\n",
    "print('Train_data size: ', train_data.shape)\n",
    "print('Label size: ', train_y.shape)\n",
    "print('Test data size: ', test_data.shape)\n",
    "print('All size: ', data.shape)"
   ]
  },
  {
   "cell_type": "markdown",
   "metadata": {},
   "source": [
    "# Filling NAs"
   ]
  },
  {
   "cell_type": "code",
   "execution_count": 5,
   "metadata": {},
   "outputs": [
    {
     "name": "stdout",
     "output_type": "stream",
     "text": [
      "Number NAs before imputing:  13952\n",
      "Number NAs after imputing:  0\n",
      "Train_preprocessed_size:  (1456, 79)\n",
      "Test_preprocessed_size:  (1459, 79)\n"
     ]
    }
   ],
   "source": [
    "print('Number NAs before imputing: ', np.sum(np.sum(data.isna())))\n",
    "none_filling_list = ['PoolQC', 'MiscFeature', 'Alley', 'Fence', 'MasVnrType', \n",
    "            'BsmtExposure', 'BsmtFinType1', 'BsmtFinType2', 'GarageType', 'BsmtCond',\n",
    "            'BsmtQual', 'FireplaceQu', 'GarageFinish', 'GarageQual', 'GarageCond']\n",
    "\n",
    "zero_filling_list = ['GarageArea', 'GarageCars', 'GarageYrBlt', 'BsmtFinSF1', 'BsmtFinSF2', \n",
    "             'BsmtUnfSF','TotalBsmtSF', 'BsmtFullBath', 'BsmtHalfBath', 'MasVnrArea']\n",
    "\n",
    "mode_filling_list = ['Functional', 'Electrical', 'Utilities', 'SaleType', 'MSZoning',\n",
    "                    'Exterior1st', 'Exterior2nd', 'KitchenQual']\n",
    "\n",
    "filling_NA(data, column_list=none_filling_list, value='None')\n",
    "filling_NA(data, column_list=zero_filling_list, value=0)\n",
    "filling_NA(data, column_list=mode_filling_list, mode_flag=True)\n",
    "data[\"LotFrontage\"] = data.groupby(\"Neighborhood\")[\"LotFrontage\"].transform(\n",
    "    lambda x: x.fillna(x.median()))\n",
    "\n",
    "print('Number NAs after imputing: ', np.sum(np.sum(data.isna())))\n",
    "\n",
    "data_train = data.loc[:train_size - 1,:]\n",
    "data_test = data.loc[train_size: ,:]\n",
    "print('Train_preprocessed_size: ', data_train.shape)\n",
    "print('Test_preprocessed_size: ', data_test.shape)"
   ]
  },
  {
   "cell_type": "markdown",
   "metadata": {},
   "source": [
    "# Poly features"
   ]
  },
  {
   "cell_type": "code",
   "execution_count": 6,
   "metadata": {},
   "outputs": [
    {
     "data": {
      "image/png": "[encoded data removed]",
      "text/plain": [
       "<Figure size 720x360 with 2 Axes>"
      ]
     },
     "metadata": {},
     "output_type": "display_data"
    }
   ],
   "source": [
    "corrs = plot_correlation(data_train, train_y)"
   ]
  },
  {
   "cell_type": "code",
   "execution_count": 7,
   "metadata": {},
   "outputs": [
    {
     "data": {
      "text/plain": [
       "(2915, 55)"
      ]
     },
     "execution_count": 7,
     "metadata": {},
     "output_type": "execute_result"
    }
   ],
   "source": [
    "#corrs[:10]\n",
    "\n",
    "poly_features = PolynomialFeatures(degree=2, interaction_only=False, include_bias=False)\n",
    "std_scaler = StandardScaler()\n",
    "new_features = poly_features.fit_transform(data.loc[:, corrs[:10].index])\n",
    "\n",
    "new_features = std_scaler.fit_transform(new_features)\n",
    "\n",
    "pd_poly_feats = pd.DataFrame(new_features, \n",
    "                             columns=poly_features.get_feature_names()).drop(poly_features.get_feature_names()[:10], axis=1)\n",
    "\n",
    "\n",
    "pd_poly_feats.shape\n"
   ]
  },
  {
   "cell_type": "markdown",
   "metadata": {},
   "source": [
    "# Encoding categorical features"
   ]
  },
  {
   "cell_type": "code",
   "execution_count": 8,
   "metadata": {},
   "outputs": [],
   "source": [
    "cat_features = []\n",
    "for column in data_train.columns:\n",
    "    if data_train[column].dtype == data_train['Alley'].dtype:\n",
    "        cat_features.append(column)\n",
    "\n",
    "data_labels = pd.concat([data_train, train_y], axis=1)"
   ]
  },
  {
   "cell_type": "code",
   "execution_count": 9,
   "metadata": {},
   "outputs": [],
   "source": [
    "def triple_plot(feature_name, target_name, train_data_labels, train_test_data):\n",
    "    print(train_test_data[feature_name].value_counts())\n",
    "    sns.boxplot(x=feature_name, y=target_name, data=train_data_labels, \n",
    "                order=list(train_data_labels.groupby(by=feature_name)[target_name].median().sort_values(ascending=True).index))\n",
    "    sns.catplot(x=feature_name, y=target_name, data=train_data_labels,\n",
    "               order=list(train_data_labels.groupby(by=feature_name)[target_name].median().sort_values(ascending=True).index))\n",
    "    sns.catplot(x=feature_name, y=target_name, kind=\"bar\", data=train_data_labels,\n",
    "               order=list(train_data_labels.groupby(by=feature_name)[target_name].median().sort_values(ascending=True).index));"
   ]
  },
  {
   "cell_type": "code",
   "execution_count": 10,
   "metadata": {},
   "outputs": [
    {
     "data": {
      "image/png": "[encoded data removed]",
      "text/plain": [
       "<Figure size 432x288 with 1 Axes>"
      ]
     },
     "metadata": {},
     "output_type": "display_data"
    }
   ],
   "source": [
    "sns.scatterplot(x='YearRemodAdd', y='SalePrice', data=data_labels);"
   ]
  },
  {
   "cell_type": "code",
   "execution_count": 11,
   "metadata": {},
   "outputs": [],
   "source": [
    "dic_BsmtQual = {'Ex': 4, 'Gd': 3, 'TA': 2, 'Fa': 1, 'None': 0}\n",
    "dic_BsmtCond = {'Gd': 4, 'TA': 3, 'Fa': 2, 'None': 1, 'Po': 0}\n",
    "dic_BsmtExposure = {'Gd': 4,'Av': 3, 'Mn': 2, 'No': 1, 'None': 0}\n",
    "dic_KitchenQual = {'Ex': 3, 'Gd': 2, 'TA': 1, 'Fa': 0}\n",
    "dic_FireplaceQu = {'Ex': 5, 'Gd': 4, 'TA': 3, 'Fa': 2, 'None': 1, 'Po': 0}\n",
    "dic_ExterQual = {'Ex': 3, 'Gd': 2, 'TA': 1, 'Fa': 0}\n",
    "dic_HeatingQC = {'Ex': 4, 'Gd': 3, 'TA': 2, 'Fa': 1, 'Po': 0}\n",
    "dic_CentralAir = {'Y': 1, 'N': 0}\n",
    "dic_GarageFinish = {'Fin': 3, 'RFn': 2, 'Unf': 1, 'None': 0}\n",
    "\n",
    "# cluster values in one class\n",
    "dic_HouseStyle = {'1.5Fin': '1.5Story', '1.5Unf': '1.5Story', '2.5Unf': '2.5Story', '2.5Fin': '2.5Story'}\n",
    "dic_GarageQual = {'Po': 'Low', 'Fa': 'Low', \n",
    "                  'Ex': 'High', 'Gd': 'High'}\n",
    "dic_GarageCond = {'Po': 'Low', 'Fa': 'Low', \n",
    "                  'Ex': 'High', 'Gd': 'High'}\n",
    "dic_Condition1 = {'PosA': 'Pos', 'PosN': 'Pos', \n",
    "                  'Artery': 'Street', 'Feedr': 'Street',\n",
    "                  'RRNe': 'Train', 'RRNn': 'Train', 'RRAe': 'Train', 'RRAn': 'Train'}\n",
    "dic_LotConfig = {'FR2': 'FR', 'FR3': 'FR'}\n",
    "dic_Electrical = {'FuseA': 'Fuse', 'FuseF': 'Fuse', 'FuseP': 'Fuse'}\n",
    "dic_SaleType = {'ConLD': 'Oth', 'Con': 'Oth', 'ConLw': 'Oth', 'ConLI': 'Oth'}\n",
    "\n",
    "# dic_Utilities = {'AllPub': 3,'NoSewr': 2, 'NoSeWa': 1, 'ELO': 0}\n",
    "# dic_GarageQual = {'Ex': 5, 'Gd': 4, 'TA': 3, 'Fa': 2, 'Po': 1, 'NA': 0}\n",
    "# dic_GarageCond = {'Ex': 5, 'Gd': 4, 'TA': 3, 'Fa': 2, 'Po': 1, 'NA': 0}\n",
    "# dic_ExterCond = {'Ex': 4,'Gd': 3,'TA': 2,'Fa': 1,'Po': 0}\n",
    "\n",
    "data['BsmtQual'].replace(dic_BsmtQual, inplace=True)\n",
    "data['BsmtCond'].replace(dic_BsmtCond, inplace=True)\n",
    "data['BsmtExposure'].replace(dic_BsmtExposure, inplace=True)\n",
    "data['KitchenQual'].replace(dic_KitchenQual, inplace=True)\n",
    "data['FireplaceQu'].replace(dic_FireplaceQu, inplace=True)\n",
    "data['ExterQual'].replace(dic_ExterQual, inplace=True)\n",
    "data['HeatingQC'].replace(dic_HeatingQC, inplace=True)\n",
    "data['CentralAir'].replace(dic_CentralAir, inplace=True)\n",
    "data['GarageFinish'].replace(dic_GarageFinish, inplace=True)\n",
    "data['HouseStyle'].replace(dic_HouseStyle, inplace=True)\n",
    "data['GarageQual'].replace(dic_GarageQual, inplace=True)\n",
    "data['GarageCond'].replace(dic_GarageCond, inplace=True)\n",
    "data['Condition1'].replace(dic_Condition1, inplace=True)\n",
    "data['LotConfig'].replace(dic_LotConfig, inplace=True)\n",
    "data['Electrical'].replace(dic_Electrical, inplace=True)\n",
    "data['SaleType'].replace(dic_SaleType, inplace=True)\n",
    "\n",
    "# data['GarageQual'].replace(dic_GarageQual, inplace=True)\n",
    "# data['GarageCond'].replace(dic_GarageCond, inplace=True)\n",
    "# data['ExterCond'].replace(dic_ExterCond, inplace=True)\n",
    "# data['Utilities'].replace(dic_Utilities, inplace=True)"
   ]
  },
  {
   "cell_type": "markdown",
   "metadata": {},
   "source": [
    "# Binning and Dummies"
   ]
  },
  {
   "cell_type": "code",
   "execution_count": 12,
   "metadata": {},
   "outputs": [],
   "source": [
    "def binning_values(data, feature_name, n_bins, dummy_flag=True):\n",
    "    if dummy_flag == True:\n",
    "        labels = [feature_name + '_' + str(x) for x in range(n_bins)]\n",
    "        binned_data = pd.cut(x=data[feature_name], bins=n_bins, labels=labels)\n",
    "        data = pd.concat([data, pd.get_dummies(binned_data)], axis=1)\n",
    "        data.drop([feature_name], inplace=True, axis=1)\n",
    "    else:\n",
    "        labels = range(n_bins)\n",
    "        data['binned_' + feature_name] = pd.cut(x=data[feature_name], bins=n_bins, labels=False)\n",
    "        data.drop([feature_name], inplace=True, axis=1)\n",
    "    return data"
   ]
  },
  {
   "cell_type": "code",
   "execution_count": 13,
   "metadata": {},
   "outputs": [],
   "source": [
    "data['GarageYrBlt'] = pd.cut(data['GarageYrBlt'], bins=[-1, 1900, 1940, 1970, 1990, 2020, 3000], \n",
    "                            labels=[str(i) for i in range(6)])\n",
    "data = pd.get_dummies(data=data, columns=['GarageYrBlt'], prefix='GarageYrBlt')\n",
    "data['Remod_Diff'] = data['YearRemodAdd'] - data['YearBuilt']\n",
    "data.loc[1872, 'Remod_Diff'] = 0\n",
    "\n",
    "data['TotalPorchSF'] = data['OpenPorchSF'] +  data['EnclosedPorch'] +  data['3SsnPorch']  + data['ScreenPorch']\n",
    "data['NoPorch_Flag'] = data['TotalPorchSF'].apply(lambda x: x == 0).astype(int)\n",
    "data['Remod_Diff_Zero_Flag'] = data['Remod_Diff'].apply(lambda x: x==0).astype(int)"
   ]
  },
  {
   "cell_type": "code",
   "execution_count": 14,
   "metadata": {},
   "outputs": [],
   "source": [
    "data = binning_values(data=data, feature_name='BsmtFinSF1', n_bins=4, dummy_flag=True)\n",
    "data = binning_values(data=data, feature_name='BsmtUnfSF', n_bins=3, dummy_flag=True)\n",
    "data = binning_values(data=data, feature_name='TotalBsmtSF', n_bins=8, dummy_flag=True)\n",
    "data = binning_values(data=data, feature_name='1stFlrSF', n_bins=6, dummy_flag=True)\n",
    "data = binning_values(data=data, feature_name='2ndFlrSF', n_bins=6, dummy_flag=True)\n",
    "data = binning_values(data=data, feature_name='GrLivArea', n_bins=6, dummy_flag=False)\n",
    "data = binning_values(data=data, feature_name='YearBuilt', n_bins=7, dummy_flag=True)\n",
    "#data = binning_values(data=data, feature_name='YearRemodAdd', n_bins=6, dummy_flag=True)\n",
    "data = binning_values(data=data, feature_name='GarageArea', n_bins=3, dummy_flag=True)\n",
    "data = binning_values(data=data, feature_name='WoodDeckSF', n_bins=4, dummy_flag=True)\n",
    "data = binning_values(data=data, feature_name='TotalPorchSF', n_bins=4, dummy_flag=True)\n",
    "data = binning_values(data=data, feature_name='OpenPorchSF', n_bins=4, dummy_flag=True)\n",
    "data = binning_values(data=data, feature_name='Remod_Diff', n_bins=4, dummy_flag=True)\n",
    "\n",
    "# Quantile bin\n",
    "n_bins = 8\n",
    "feature_name = 'LotArea'\n",
    "labels = [feature_name + '_' + str(x) for x in range(n_bins)]\n",
    "binned_data = pd.qcut(x=data[feature_name], q=n_bins, labels=labels)\n",
    "data = pd.concat([data, pd.get_dummies(binned_data)], axis=1)\n",
    "data.drop([feature_name], inplace=True, axis=1)"
   ]
  },
  {
   "cell_type": "markdown",
   "metadata": {},
   "source": [
    "# Dummies"
   ]
  },
  {
   "cell_type": "code",
   "execution_count": 15,
   "metadata": {},
   "outputs": [],
   "source": [
    "# use high correlation Exterior1st and 2nd\n",
    "data['ExteriorMatch_Flag'] = (data['Exterior1st'] == data['Exterior2nd']).astype(int)\n",
    "data['Diff2ndCondition_Flag'] = (data['Condition1'] == data['Condition2']).astype(int)\n",
    "\n",
    "dummies_cat_features = ['BsmtFinType1', 'BsmtFinType2', 'Fence', 'Foundation', 'RoofStyle', 'RoofMatl', 'ExterCond',\n",
    "                'GarageType', 'GarageFinish', 'MSSubClass', 'BldgType', 'HouseStyle', 'GarageQual', 'GarageCond',\n",
    "                'Exterior1st', 'MasVnrType', 'Functional', 'MSZoning', 'Neighborhood', 'Condition1', 'LotShape',\n",
    "                'LandContour', 'LotConfig', 'Alley', 'PavedDrive', 'Electrical', 'MoSold', 'YrSold', 'SaleType',\n",
    "                'SaleCondition']\n",
    "\n",
    "data = pd.get_dummies(data=data, columns=dummies_cat_features, prefix=dummies_cat_features)"
   ]
  },
  {
   "cell_type": "markdown",
   "metadata": {},
   "source": [
    "# Flags"
   ]
  },
  {
   "cell_type": "code",
   "execution_count": 16,
   "metadata": {},
   "outputs": [],
   "source": [
    "#sns.scatterplot(x='MiscVal', y='SalePrice', data=data_labels);\n"
   ]
  },
  {
   "cell_type": "code",
   "execution_count": 17,
   "metadata": {},
   "outputs": [],
   "source": [
    "data['LowQualFinSF'] = data['LowQualFinSF'].apply(lambda x: x>0).astype(int)\n",
    "data['PoolArea'] = data['PoolArea'].apply(lambda x: x>0).astype(int)\n",
    "data['BsmtFinSF2'] = data['BsmtFinSF2'].apply(lambda x: x>0).astype(int)\n",
    "data['LandSlope_Flag'] = (data['LandSlope'] == 'Gtl').astype(int)\n",
    "data['Heating_GasA_Flag'] = (data['Heating'] == 'GasA').astype(int)\n",
    "\n",
    "cat_features = []\n",
    "for column in data.columns:\n",
    "    if data[column].dtype == object:\n",
    "        cat_features.append(column)"
   ]
  },
  {
   "cell_type": "code",
   "execution_count": 18,
   "metadata": {},
   "outputs": [
    {
     "data": {
      "text/plain": [
       "8"
      ]
     },
     "execution_count": 18,
     "metadata": {},
     "output_type": "execute_result"
    }
   ],
   "source": [
    "len(cat_features)"
   ]
  },
  {
   "cell_type": "markdown",
   "metadata": {},
   "source": [
    "# Drop Features and create new"
   ]
  },
  {
   "cell_type": "code",
   "execution_count": 19,
   "metadata": {},
   "outputs": [],
   "source": [
    "data['TotalBathrooms'] = data['BsmtHalfBath'] + data['BsmtFullBath'] +  data['HalfBath'] + data['FullBath']\n",
    "\n",
    "drop_feature_list = ['PoolQC', 'MasVnrArea', 'Exterior2nd', 'BsmtHalfBath', 'BsmtFullBath', 'HalfBath',\n",
    "                    'FullBath', 'Condition2', 'LandSlope', 'Street', 'Heating', 'MiscFeature', 'MiscVal',\n",
    "                    'Utilities',\n",
    "                    'YearRemodAdd'] #??????\n",
    "\n",
    "data.drop(labels=drop_feature_list, axis=1, inplace=True)"
   ]
  },
  {
   "cell_type": "code",
   "execution_count": 20,
   "metadata": {
    "scrolled": true
   },
   "outputs": [
    {
     "data": {
      "text/html": [
       "<div>\n",
       "<style scoped>\n",
       "    .dataframe tbody tr th:only-of-type {\n",
       "        vertical-align: middle;\n",
       "    }\n",
       "\n",
       "    .dataframe tbody tr th {\n",
       "        vertical-align: top;\n",
       "    }\n",
       "\n",
       "    .dataframe thead th {\n",
       "        text-align: right;\n",
       "    }\n",
       "</style>\n",
       "<table border=\"1\" class=\"dataframe\">\n",
       "  <thead>\n",
       "    <tr style=\"text-align: right;\">\n",
       "      <th></th>\n",
       "      <th>LotFrontage</th>\n",
       "      <th>OverallQual</th>\n",
       "      <th>OverallCond</th>\n",
       "      <th>ExterQual</th>\n",
       "      <th>BsmtQual</th>\n",
       "      <th>BsmtCond</th>\n",
       "      <th>BsmtExposure</th>\n",
       "      <th>BsmtFinSF2</th>\n",
       "      <th>HeatingQC</th>\n",
       "      <th>CentralAir</th>\n",
       "      <th>...</th>\n",
       "      <th>SaleType_WD</th>\n",
       "      <th>SaleCondition_Abnorml</th>\n",
       "      <th>SaleCondition_AdjLand</th>\n",
       "      <th>SaleCondition_Alloca</th>\n",
       "      <th>SaleCondition_Family</th>\n",
       "      <th>SaleCondition_Normal</th>\n",
       "      <th>SaleCondition_Partial</th>\n",
       "      <th>LandSlope_Flag</th>\n",
       "      <th>Heating_GasA_Flag</th>\n",
       "      <th>TotalBathrooms</th>\n",
       "    </tr>\n",
       "  </thead>\n",
       "  <tbody>\n",
       "    <tr>\n",
       "      <th>0</th>\n",
       "      <td>65.0</td>\n",
       "      <td>7</td>\n",
       "      <td>5</td>\n",
       "      <td>2</td>\n",
       "      <td>3</td>\n",
       "      <td>3</td>\n",
       "      <td>1</td>\n",
       "      <td>0</td>\n",
       "      <td>4</td>\n",
       "      <td>1</td>\n",
       "      <td>...</td>\n",
       "      <td>1</td>\n",
       "      <td>0</td>\n",
       "      <td>0</td>\n",
       "      <td>0</td>\n",
       "      <td>0</td>\n",
       "      <td>1</td>\n",
       "      <td>0</td>\n",
       "      <td>1</td>\n",
       "      <td>1</td>\n",
       "      <td>4.0</td>\n",
       "    </tr>\n",
       "    <tr>\n",
       "      <th>1</th>\n",
       "      <td>80.0</td>\n",
       "      <td>6</td>\n",
       "      <td>8</td>\n",
       "      <td>1</td>\n",
       "      <td>3</td>\n",
       "      <td>3</td>\n",
       "      <td>4</td>\n",
       "      <td>0</td>\n",
       "      <td>4</td>\n",
       "      <td>1</td>\n",
       "      <td>...</td>\n",
       "      <td>1</td>\n",
       "      <td>0</td>\n",
       "      <td>0</td>\n",
       "      <td>0</td>\n",
       "      <td>0</td>\n",
       "      <td>1</td>\n",
       "      <td>0</td>\n",
       "      <td>1</td>\n",
       "      <td>1</td>\n",
       "      <td>3.0</td>\n",
       "    </tr>\n",
       "    <tr>\n",
       "      <th>2</th>\n",
       "      <td>68.0</td>\n",
       "      <td>7</td>\n",
       "      <td>5</td>\n",
       "      <td>2</td>\n",
       "      <td>3</td>\n",
       "      <td>3</td>\n",
       "      <td>2</td>\n",
       "      <td>0</td>\n",
       "      <td>4</td>\n",
       "      <td>1</td>\n",
       "      <td>...</td>\n",
       "      <td>1</td>\n",
       "      <td>0</td>\n",
       "      <td>0</td>\n",
       "      <td>0</td>\n",
       "      <td>0</td>\n",
       "      <td>1</td>\n",
       "      <td>0</td>\n",
       "      <td>1</td>\n",
       "      <td>1</td>\n",
       "      <td>4.0</td>\n",
       "    </tr>\n",
       "  </tbody>\n",
       "</table>\n",
       "<p>3 rows × 295 columns</p>\n",
       "</div>"
      ],
      "text/plain": [
       "   LotFrontage  OverallQual  OverallCond  ExterQual  BsmtQual  BsmtCond  \\\n",
       "0         65.0            7            5          2         3         3   \n",
       "1         80.0            6            8          1         3         3   \n",
       "2         68.0            7            5          2         3         3   \n",
       "\n",
       "   BsmtExposure  BsmtFinSF2  HeatingQC  CentralAir       ...        \\\n",
       "0             1           0          4           1       ...         \n",
       "1             4           0          4           1       ...         \n",
       "2             2           0          4           1       ...         \n",
       "\n",
       "   SaleType_WD  SaleCondition_Abnorml  SaleCondition_AdjLand  \\\n",
       "0            1                      0                      0   \n",
       "1            1                      0                      0   \n",
       "2            1                      0                      0   \n",
       "\n",
       "   SaleCondition_Alloca  SaleCondition_Family  SaleCondition_Normal  \\\n",
       "0                     0                     0                     1   \n",
       "1                     0                     0                     1   \n",
       "2                     0                     0                     1   \n",
       "\n",
       "   SaleCondition_Partial  LandSlope_Flag  Heating_GasA_Flag  TotalBathrooms  \n",
       "0                      0               1                  1             4.0  \n",
       "1                      0               1                  1             3.0  \n",
       "2                      0               1                  1             4.0  \n",
       "\n",
       "[3 rows x 295 columns]"
      ]
     },
     "execution_count": 20,
     "metadata": {},
     "output_type": "execute_result"
    }
   ],
   "source": [
    "data.head(3)"
   ]
  },
  {
   "cell_type": "code",
   "execution_count": 21,
   "metadata": {},
   "outputs": [
    {
     "data": {
      "text/plain": [
       "(2915, 295)"
      ]
     },
     "execution_count": 21,
     "metadata": {},
     "output_type": "execute_result"
    }
   ],
   "source": [
    "data.shape"
   ]
  },
  {
   "cell_type": "code",
   "execution_count": 22,
   "metadata": {},
   "outputs": [
    {
     "data": {
      "text/plain": [
       "0"
      ]
     },
     "execution_count": 22,
     "metadata": {},
     "output_type": "execute_result"
    }
   ],
   "source": [
    "np.sum(np.sum(data.isna()))"
   ]
  },
  {
   "cell_type": "code",
   "execution_count": 23,
   "metadata": {},
   "outputs": [
    {
     "data": {
      "text/plain": [
       "0"
      ]
     },
     "execution_count": 23,
     "metadata": {},
     "output_type": "execute_result"
    }
   ],
   "source": [
    "np.sum(np.sum(pd_poly_feats.isna()))"
   ]
  },
  {
   "cell_type": "code",
   "execution_count": 24,
   "metadata": {},
   "outputs": [
    {
     "data": {
      "text/plain": [
       "{dtype('uint8'), dtype('int64'), dtype('float64')}"
      ]
     },
     "execution_count": 24,
     "metadata": {},
     "output_type": "execute_result"
    }
   ],
   "source": [
    "set([data[col].dtype for col in data.columns])"
   ]
  },
  {
   "cell_type": "markdown",
   "metadata": {},
   "source": [
    "# Get Train and Test data"
   ]
  },
  {
   "cell_type": "code",
   "execution_count": 25,
   "metadata": {},
   "outputs": [
    {
     "name": "stdout",
     "output_type": "stream",
     "text": [
      "Train_preprocessed_size:  (1456, 295)\n",
      "Test_preprocessed_size:  (1459, 295)\n"
     ]
    }
   ],
   "source": [
    "data_train = data.loc[:train_size - 1,:]\n",
    "data_test = data.loc[train_size: ,:]\n",
    "print('Train_preprocessed_size: ', data_train.shape)\n",
    "print('Test_preprocessed_size: ', data_test.shape)"
   ]
  },
  {
   "cell_type": "code",
   "execution_count": 26,
   "metadata": {},
   "outputs": [
    {
     "data": {
      "text/plain": [
       "(1456,)"
      ]
     },
     "execution_count": 26,
     "metadata": {},
     "output_type": "execute_result"
    }
   ],
   "source": [
    "train_y.shape"
   ]
  },
  {
   "cell_type": "markdown",
   "metadata": {},
   "source": [
    "# Skew y and Box-Cox, np.log1p"
   ]
  },
  {
   "cell_type": "code",
   "execution_count": 27,
   "metadata": {},
   "outputs": [],
   "source": [
    "skewed_feats = data.apply(lambda x: skew(x), axis=0).sort_values(ascending=False)"
   ]
  },
  {
   "cell_type": "code",
   "execution_count": 28,
   "metadata": {},
   "outputs": [],
   "source": [
    "skewness = pd.DataFrame({'Skew' :skewed_feats})"
   ]
  },
  {
   "cell_type": "code",
   "execution_count": 29,
   "metadata": {},
   "outputs": [],
   "source": [
    "sorted_skew = skewness.sort_values(by='Skew', ascending=False)"
   ]
  },
  {
   "cell_type": "code",
   "execution_count": 30,
   "metadata": {},
   "outputs": [
    {
     "name": "stdout",
     "output_type": "stream",
     "text": [
      "There are 241 skewed numerical features to Box Cox transform\n"
     ]
    }
   ],
   "source": [
    "skewed_feats = list(skewness.loc[skewness['Skew'] > 0.5].index)\n",
    "print(\"There are {} skewed numerical features to Box Cox transform\".format(len(skewed_feats)))"
   ]
  },
  {
   "cell_type": "code",
   "execution_count": 31,
   "metadata": {},
   "outputs": [],
   "source": [
    "for column in data.columns:\n",
    "    if data[data[column] < 0].shape[0] > 0:\n",
    "        print(column)"
   ]
  },
  {
   "cell_type": "code",
   "execution_count": 32,
   "metadata": {},
   "outputs": [],
   "source": [
    "data_boxcox = data.copy()\n",
    "lam = 0.15"
   ]
  },
  {
   "cell_type": "code",
   "execution_count": 33,
   "metadata": {},
   "outputs": [],
   "source": [
    "for feat in skewed_feats:\n",
    "    data_boxcox[feat] = boxcox1p(data_boxcox[feat], lam)"
   ]
  },
  {
   "cell_type": "code",
   "execution_count": 34,
   "metadata": {},
   "outputs": [
    {
     "data": {
      "text/plain": [
       "0"
      ]
     },
     "execution_count": 34,
     "metadata": {},
     "output_type": "execute_result"
    }
   ],
   "source": [
    "np.sum(np.sum(data_boxcox.isna()))"
   ]
  },
  {
   "cell_type": "code",
   "execution_count": 35,
   "metadata": {},
   "outputs": [
    {
     "data": {
      "text/plain": [
       "(2915, 295)"
      ]
     },
     "execution_count": 35,
     "metadata": {},
     "output_type": "execute_result"
    }
   ],
   "source": [
    "data_boxcox.shape"
   ]
  },
  {
   "cell_type": "code",
   "execution_count": 36,
   "metadata": {},
   "outputs": [
    {
     "data": {
      "text/plain": [
       "(2915, 55)"
      ]
     },
     "execution_count": 36,
     "metadata": {},
     "output_type": "execute_result"
    }
   ],
   "source": [
    "pd_poly_feats.shape"
   ]
  },
  {
   "cell_type": "markdown",
   "metadata": {},
   "source": [
    "# Add poly_feats and find garbage features"
   ]
  },
  {
   "cell_type": "code",
   "execution_count": 37,
   "metadata": {},
   "outputs": [],
   "source": [
    "# data_boxcox = data\n",
    "# y_skewed = train_y"
   ]
  },
  {
   "cell_type": "code",
   "execution_count": 38,
   "metadata": {},
   "outputs": [],
   "source": [
    "ready_data = pd.concat([data_boxcox, pd_poly_feats], axis=1)"
   ]
  },
  {
   "cell_type": "code",
   "execution_count": 39,
   "metadata": {},
   "outputs": [
    {
     "data": {
      "text/plain": [
       "0"
      ]
     },
     "execution_count": 39,
     "metadata": {},
     "output_type": "execute_result"
    }
   ],
   "source": [
    "np.sum(np.sum(ready_data.isna()))"
   ]
  },
  {
   "cell_type": "code",
   "execution_count": 40,
   "metadata": {},
   "outputs": [
    {
     "name": "stdout",
     "output_type": "stream",
     "text": [
      "Train_preprocessed_size:  (1456, 350)\n",
      "Test_preprocessed_size:  (1459, 350)\n"
     ]
    }
   ],
   "source": [
    "data_train = ready_data.loc[:train_size - 1,:]\n",
    "data_test = ready_data.loc[train_size: ,:]\n",
    "print('Train_preprocessed_size: ', data_train.shape)\n",
    "print('Test_preprocessed_size: ', data_test.shape)"
   ]
  },
  {
   "cell_type": "code",
   "execution_count": 41,
   "metadata": {},
   "outputs": [
    {
     "name": "stdout",
     "output_type": "stream",
     "text": [
      "['GarageYrBlt_5', 'BsmtFinSF1_3', 'TotalBsmtSF_6', 'TotalBsmtSF_7', '1stFlrSF_4', '1stFlrSF_5', 'WoodDeckSF_3', 'OpenPorchSF_3', 'MSSubClass_150']\n"
     ]
    }
   ],
   "source": [
    "def finding_garbage_features(all_data, data_train):\n",
    "    data_garbage_features = []\n",
    "    train_data_garbage_features = []\n",
    "    for column in data.columns:\n",
    "        if all_data[column].value_counts().shape[0] == 1:\n",
    "            data_garbage_features.append(column)\n",
    "        if data_train[column].value_counts().shape[0] == 1:\n",
    "            train_data_garbage_features.append(column)\n",
    "#     print('All data garbage:')\n",
    "#     print(data_garbage_features)\n",
    "#     print('Train data garbage:')\n",
    "#     print(train_data_garbage_features)\n",
    "    return train_data_garbage_features\n",
    "\n",
    "garbage_features = finding_garbage_features(data, data_train)\n",
    "print(garbage_features)"
   ]
  },
  {
   "cell_type": "code",
   "execution_count": 42,
   "metadata": {},
   "outputs": [],
   "source": [
    "ready_data.drop(garbage_features, axis=1, inplace=True)"
   ]
  },
  {
   "cell_type": "code",
   "execution_count": 43,
   "metadata": {},
   "outputs": [
    {
     "name": "stdout",
     "output_type": "stream",
     "text": [
      "Train_preprocessed_size:  (1456, 341)\n",
      "Test_preprocessed_size:  (1459, 341)\n"
     ]
    }
   ],
   "source": [
    "data_train = ready_data.loc[:train_size - 1,:]\n",
    "data_test = ready_data.loc[train_size: ,:]\n",
    "print('Train_preprocessed_size: ', data_train.shape)\n",
    "print('Test_preprocessed_size: ', data_test.shape)"
   ]
  },
  {
   "cell_type": "markdown",
   "metadata": {},
   "source": [
    "# Again drop outliers"
   ]
  },
  {
   "cell_type": "code",
   "execution_count": 44,
   "metadata": {},
   "outputs": [
    {
     "name": "stdout",
     "output_type": "stream",
     "text": [
      "Isolation forest outliers:  8\n",
      "Set:  {675, 582, 745, 1167, 1265, 88, 185, 634}\n",
      "X shape:  (1448, 341)\n",
      "y shape:  (1448,)\n"
     ]
    }
   ],
   "source": [
    "iso_forest = IsolationForest(max_samples=500, contamination=0.005, random_state=42)\n",
    "iso_forest.fit(data_train)\n",
    "# predictions\n",
    "labels = iso_forest.predict(data_train)\n",
    "print('Isolation forest outliers: ', len(np.where(labels == -1)[0]))\n",
    "isolationforest_outliers = set(np.where(labels == -1)[0])\n",
    "print('Set: ', isolationforest_outliers)\n",
    "\n",
    "# outliers = dbscan_outliers | isolationforest_outliers\n",
    "outliers =  isolationforest_outliers\n",
    "\n",
    "ones = np.ones_like(train_y, dtype=bool)\n",
    "for i in outliers:\n",
    "    ones[i] = False\n",
    "X = data_train[ones]\n",
    "y = train_y.values[ones]\n",
    "\n",
    "print('X shape: ', X.shape)\n",
    "print('y shape: ', y.shape)"
   ]
  },
  {
   "cell_type": "code",
   "execution_count": 49,
   "metadata": {},
   "outputs": [],
   "source": [
    "# pca = PCA(n_components=320)\n",
    "# X_pca = pca.fit_transform(X)\n",
    "X_train, X_test, y_train, y_test = train_test_split(X, y, test_size=0.2, random_state=42, shuffle=True)\n"
   ]
  },
  {
   "cell_type": "code",
   "execution_count": 50,
   "metadata": {},
   "outputs": [],
   "source": [
    "#y_train_log = np.log1p(y_train)"
   ]
  },
  {
   "cell_type": "markdown",
   "metadata": {},
   "source": [
    "# Default algos"
   ]
  },
  {
   "cell_type": "code",
   "execution_count": 45,
   "metadata": {},
   "outputs": [],
   "source": [
    "ridge_reg = Ridge(random_state=42)\n",
    "lasso_reg = Lasso(random_state=42)\n",
    "elastic_reg = ElasticNet(random_state=42)\n",
    "bayesian_reg = BayesianRidge()\n",
    "rand_forest_reg = RandomForestRegressor(random_state=42)\n",
    "grad_boost_reg = GradientBoostingRegressor(random_state=42)\n",
    "xgboost_reg = XGBRegressor(random_state=42)\n",
    "lasso_lars_reg = LassoLarsIC(max_iter=50)"
   ]
  },
  {
   "cell_type": "code",
   "execution_count": 46,
   "metadata": {},
   "outputs": [],
   "source": [
    "reg_list = [ridge_reg, lasso_reg, elastic_reg, bayesian_reg, rand_forest_reg,\n",
    "              grad_boost_reg, lasso_lars_reg, xgboost_reg]\n",
    "reg_index = ['Ridge', 'Lasso', 'Elastic', 'Bayesian', 'RandForest', 'GradBoost', 'LassoLars', 'XGBoost']\n",
    "\n",
    "regressors = {pair[0] : pair[1] for pair in zip(reg_index, reg_list)}"
   ]
  },
  {
   "cell_type": "code",
   "execution_count": 51,
   "metadata": {},
   "outputs": [
    {
     "name": "stderr",
     "output_type": "stream",
     "text": [
      "/Library/Frameworks/Python.framework/Versions/3.6/lib/python3.6/site-packages/sklearn/linear_model/coordinate_descent.py:491: ConvergenceWarning: Objective did not converge. You might want to increase the number of iterations. Fitting data with very small alpha may cause precision problems.\n",
      "  ConvergenceWarning)\n",
      "/Library/Frameworks/Python.framework/Versions/3.6/lib/python3.6/site-packages/sklearn/linear_model/least_angle.py:313: ConvergenceWarning: Regressors in active set degenerate. Dropping a regressor, after 45 iterations, i.e. alpha=7.159e+01, with an active set of 43 regressors, and the smallest cholesky pivot element being 1.490e-08. Reduce max_iter or increase eps parameters.\n",
      "  ConvergenceWarning)\n"
     ]
    }
   ],
   "source": [
    "quality = pd.DataFrame(index=regressors.keys(), columns=['Quality'])\n",
    "for name, reg in regressors.items():\n",
    "    new_reg = clone(reg)\n",
    "    new_reg.fit(X_train, y_train)\n",
    "    temp_qual = RMSLE(new_reg.predict(X_test), y_test)\n",
    "    quality.loc[name, 'Quality'] = temp_qual"
   ]
  },
  {
   "cell_type": "code",
   "execution_count": 52,
   "metadata": {},
   "outputs": [
    {
     "data": {
      "text/html": [
       "<div>\n",
       "<style scoped>\n",
       "    .dataframe tbody tr th:only-of-type {\n",
       "        vertical-align: middle;\n",
       "    }\n",
       "\n",
       "    .dataframe tbody tr th {\n",
       "        vertical-align: top;\n",
       "    }\n",
       "\n",
       "    .dataframe thead th {\n",
       "        text-align: right;\n",
       "    }\n",
       "</style>\n",
       "<table border=\"1\" class=\"dataframe\">\n",
       "  <thead>\n",
       "    <tr style=\"text-align: right;\">\n",
       "      <th></th>\n",
       "      <th>Quality</th>\n",
       "    </tr>\n",
       "  </thead>\n",
       "  <tbody>\n",
       "    <tr>\n",
       "      <th>Ridge</th>\n",
       "      <td>0.150991</td>\n",
       "    </tr>\n",
       "    <tr>\n",
       "      <th>Lasso</th>\n",
       "      <td>0.153915</td>\n",
       "    </tr>\n",
       "    <tr>\n",
       "      <th>Elastic</th>\n",
       "      <td>0.158864</td>\n",
       "    </tr>\n",
       "    <tr>\n",
       "      <th>Bayesian</th>\n",
       "      <td>0.146626</td>\n",
       "    </tr>\n",
       "    <tr>\n",
       "      <th>RandForest</th>\n",
       "      <td>0.161061</td>\n",
       "    </tr>\n",
       "    <tr>\n",
       "      <th>GradBoost</th>\n",
       "      <td>0.142939</td>\n",
       "    </tr>\n",
       "    <tr>\n",
       "      <th>LassoLars</th>\n",
       "      <td>0.154177</td>\n",
       "    </tr>\n",
       "    <tr>\n",
       "      <th>XGBoost</th>\n",
       "      <td>0.142609</td>\n",
       "    </tr>\n",
       "  </tbody>\n",
       "</table>\n",
       "</div>"
      ],
      "text/plain": [
       "             Quality\n",
       "Ridge       0.150991\n",
       "Lasso       0.153915\n",
       "Elastic     0.158864\n",
       "Bayesian    0.146626\n",
       "RandForest  0.161061\n",
       "GradBoost   0.142939\n",
       "LassoLars   0.154177\n",
       "XGBoost     0.142609"
      ]
     },
     "execution_count": 52,
     "metadata": {},
     "output_type": "execute_result"
    }
   ],
   "source": [
    "quality"
   ]
  },
  {
   "cell_type": "code",
   "execution_count": 53,
   "metadata": {},
   "outputs": [
    {
     "data": {
      "text/plain": [
       "Quality    0.151398\n",
       "dtype: float64"
      ]
     },
     "execution_count": 53,
     "metadata": {},
     "output_type": "execute_result"
    }
   ],
   "source": [
    "np.mean(quality)"
   ]
  },
  {
   "cell_type": "markdown",
   "metadata": {},
   "source": [
    "# Optimization params"
   ]
  },
  {
   "cell_type": "code",
   "execution_count": null,
   "metadata": {},
   "outputs": [],
   "source": [
    "def my_grid_search(estimator, grid_params):\n",
    "    est = clone(estimator)\n",
    "    grid_search = GridSearchCV(estimator=est, param_grid=grid_params, cv=4, scoring=rmsle, verbose=1)\n",
    "    grid_search.fit(X=X_train, y=y_train)\n",
    "    \n",
    "    print('=======================================')\n",
    "    opt_params = grid_search.best_params_\n",
    "    print('Best grid_search params: ', opt_params)\n",
    "    print('Best grid_search score: ', grid_search.best_score_)\n",
    "    opt_reg = grid_search.best_estimator_\n",
    "    \n",
    "    opt_reg.fit(X_train, y_train)\n",
    "    print('Accuracy_test: ', RMSLE(opt_reg.predict(X_test), y_test))\n",
    "    print('Accuracy_train: ', RMSLE(opt_reg.predict(X_train), y_train))\n",
    "    \n",
    "    default_est = clone(estimator)\n",
    "    default_scores = cross_val_score(estimator=default_est, X=X_train, y=y_train, cv=4, scoring=rmsle)\n",
    "    print('Default cv-scores: ', default_scores)\n",
    "    print('Default mean cv_scores: ', np.mean(default_scores))"
   ]
  },
  {
   "cell_type": "markdown",
   "metadata": {},
   "source": [
    "## Ridge + "
   ]
  },
  {
   "cell_type": "code",
   "execution_count": null,
   "metadata": {},
   "outputs": [],
   "source": [
    "ridge_params = {\n",
    "    'alpha':  [0.001, 0.01, 0.1, 1, 10, 100, 250],\n",
    "    'fit_intercept': [True, False],\n",
    "    'normalize': [True, False],\n",
    "    'max_iter': [i * 300 for i in range(2, 12)],\n",
    "    'random_state': [42]\n",
    "}\n",
    "ridge_reg = Ridge()\n",
    "my_grid_search(ridge_reg, ridge_params)"
   ]
  },
  {
   "cell_type": "markdown",
   "metadata": {},
   "source": [
    "## Ridge Kernel"
   ]
  },
  {
   "cell_type": "code",
   "execution_count": null,
   "metadata": {},
   "outputs": [],
   "source": [
    "ridge_kernel_params = [{\n",
    "    'alpha':  [0.001, 0.01, 0.1, 1, 10, 100, 250],\n",
    "    'kernel': ['poly', 'rbf', 'sigmoid'],\n",
    "    #'gamma': np.logspace(-2, 2, 6),\n",
    "    'degree': [2, 3, 4]\n",
    "    #'coef0': [0, 1]\n",
    "}\n",
    "ridge_kernel_reg = KernelRidge()\n",
    "my_grid_search(ridge_kernel_reg, ridge_kernel_params)"
   ]
  },
  {
   "cell_type": "markdown",
   "metadata": {},
   "source": [
    "## Lasso"
   ]
  },
  {
   "cell_type": "code",
   "execution_count": null,
   "metadata": {},
   "outputs": [],
   "source": [
    "lasso_params = {\n",
    "    'alpha':  [0.001, 0.01, 0.1, 1, 10, 100, 250],\n",
    "    'normalize': [True, False],\n",
    "    'fit_intercept': [True, False],\n",
    "    'max_iter': [1000, 1500, 2000, 10000],\n",
    "    'random_state': [42]\n",
    "}\n",
    "lasso_reg = Lasso(max_iter=10000)\n",
    "my_grid_search(lasso_reg, lasso_params)"
   ]
  },
  {
   "cell_type": "markdown",
   "metadata": {},
   "source": [
    "## XGBoost"
   ]
  },
  {
   "cell_type": "code",
   "execution_count": 117,
   "metadata": {},
   "outputs": [],
   "source": [
    "X_train, X_test, y_train, y_test = train_test_split(X, y, test_size=0.2, random_state=42, shuffle=True)"
   ]
  },
  {
   "cell_type": "code",
   "execution_count": 118,
   "metadata": {
    "scrolled": true
   },
   "outputs": [
    {
     "name": "stdout",
     "output_type": "stream",
     "text": [
      "CV-results: [-0.11061884 -0.13301835 -0.12957321 -0.11595541 -0.13524421]\n",
      "Mean: -0.12488200335124051\n"
     ]
    }
   ],
   "source": [
    "xgboost_est = XGBRegressor(random_state=42)\n",
    "xgboost_score = cross_val_score(estimator=xgboost_est, X=X_train, y=y_train, scoring=rmsle, cv=5)\n",
    "print('CV-results: {}'.format(xgboost_score))\n",
    "print('Mean: {}'.format(np.mean(xgboost_score)))"
   ]
  },
  {
   "cell_type": "code",
   "execution_count": 119,
   "metadata": {},
   "outputs": [
    {
     "name": "stdout",
     "output_type": "stream",
     "text": [
      "CV-results: [-0.1149779  -0.12762558 -0.12545751 -0.12142369 -0.12904759]\n",
      "Mean: -0.12370645211626374\n",
      "Accuracy_test:  0.13503501626211825\n",
      "Accuracy_train:  0.03414558461295368\n"
     ]
    }
   ],
   "source": [
    "xgboost1 = XGBRegressor(\n",
    "     learning_rate = 0.1, \n",
    "     n_estimators = 140, \n",
    "     max_depth = 5, \n",
    "     min_child_weight = 1, \n",
    "     gamma = 0, \n",
    "     subsample = 0.8, \n",
    "     colsample_bytree = 0.8,\n",
    "     n_jobs = -1,\n",
    "     scale_pos_weight = 1,\n",
    "     random_state=42)\n",
    "xgboost1_score = cross_val_score(estimator=xgboost1, X=X_train, y=y_train, scoring=rmsle, cv=5)\n",
    "print('CV-results: {}'.format(xgboost1_score))\n",
    "print('Mean: {}'.format(np.mean(xgboost1_score)))\n",
    "xgboost1.fit(X_train, y_train)\n",
    "print('Accuracy_test: ', RMSLE(xgboost1.predict(X_test), y_test))\n",
    "print('Accuracy_train: ', RMSLE(xgboost1.predict(X_train), y_train))"
   ]
  },
  {
   "cell_type": "code",
   "execution_count": 120,
   "metadata": {},
   "outputs": [
    {
     "name": "stdout",
     "output_type": "stream",
     "text": [
      "Best_params:  {'n_estimators': 130}\n",
      "Best score:  -0.12369224394864826\n",
      "Accuracy_test:  0.13590227457727838\n",
      "Accuracy_train:  0.0470415120293867\n"
     ]
    }
   ],
   "source": [
    "xgboost2 = XGBRegressor(\n",
    "     learning_rate = 0.1, \n",
    "     #n_estimators = 140, \n",
    "     max_depth = 5, \n",
    "     min_child_weight = 1, \n",
    "     gamma = 0, \n",
    "     subsample = 0.8, \n",
    "     colsample_bytree = 0.8,\n",
    "     n_jobs = -1,\n",
    "     scale_pos_weight = 1,\n",
    "     random_state=42)\n",
    "\n",
    "grid_params = {\n",
    "    'n_estimators': np.arange(30, 181, 10)\n",
    "}\n",
    "\n",
    "grid_search2 = GridSearchCV(estimator=xgboost2, param_grid=grid_params, cv=5, scoring=rmsle)\n",
    "grid_search2.fit(X=X_train, y=y_train)\n",
    "print('Best_params: ', grid_search2.best_params_)\n",
    "print('Best score: ', grid_search2.best_score_)\n",
    "xgboost2.fit(X_train, y_train)\n",
    "print('Accuracy_test: ', RMSLE(xgboost2.predict(X_test), y_test))\n",
    "print('Accuracy_train: ', RMSLE(xgboost2.predict(X_train), y_train))"
   ]
  },
  {
   "cell_type": "code",
   "execution_count": 121,
   "metadata": {},
   "outputs": [
    {
     "name": "stdout",
     "output_type": "stream",
     "text": [
      "Best_params:  {'max_depth': 4, 'min_child_weight': 1}\n",
      "Best score:  -0.12120673981128732\n",
      "Accuracy_test:  0.13511131421074257\n",
      "Accuracy_train:  0.03695963064133997\n"
     ]
    }
   ],
   "source": [
    "xgboost3 = XGBRegressor(\n",
    "     learning_rate = 0.1, \n",
    "     n_estimators = 130, \n",
    "     max_depth = 5, \n",
    "     min_child_weight = 1, \n",
    "     gamma = 0, \n",
    "     subsample = 0.8, \n",
    "     colsample_bytree = 0.8,\n",
    "     n_jobs = -1,\n",
    "     scale_pos_weight = 1,\n",
    "     random_state=42)\n",
    "\n",
    "grid_params = {\n",
    "     'max_depth': np.arange(3, 10),\n",
    "     'min_child_weight': np.arange(1, 11)\n",
    "}\n",
    "\n",
    "grid_search3 = GridSearchCV(estimator=xgboost3, param_grid=grid_params, cv=5, scoring=rmsle)\n",
    "grid_search3.fit(X=X_train, y=y_train)\n",
    "print('Best_params: ', grid_search3.best_params_)\n",
    "print('Best score: ', grid_search3.best_score_)\n",
    "xgboost3.fit(X_train, y_train)\n",
    "print('Accuracy_test: ', RMSLE(xgboost3.predict(X_test), y_test))\n",
    "print('Accuracy_train: ', RMSLE(xgboost3.predict(X_train), y_train))"
   ]
  },
  {
   "cell_type": "code",
   "execution_count": 122,
   "metadata": {},
   "outputs": [
    {
     "name": "stdout",
     "output_type": "stream",
     "text": [
      "CV-results: [-0.1141939  -0.13087027 -0.12327336 -0.1135011  -0.12573621]\n",
      "Mean: -0.12151496549261823\n",
      "Accuracy_test:  0.14284757340734025\n",
      "Accuracy_train:  0.0026943206466144027\n"
     ]
    }
   ],
   "source": [
    "xgboost = XGBRegressor(\n",
    "     learning_rate = 0.1, \n",
    "     n_estimators = 1000, \n",
    "     max_depth = 4, \n",
    "     min_child_weight = 1, \n",
    "     gamma = 0, \n",
    "     subsample = 0.8, \n",
    "     colsample_bytree = 0.8,\n",
    "     n_jobs = -1,\n",
    "     scale_pos_weight = 1,\n",
    "     random_state=42)\n",
    "xgboost_score = cross_val_score(estimator=xgboost, X=X_train, y=y_train, scoring=rmsle, cv=5)\n",
    "print('CV-results: {}'.format(xgboost_score))\n",
    "print('Mean: {}'.format(np.mean(xgboost_score)))\n",
    "xgboost.fit(X_train, y_train)\n",
    "print('Accuracy_test: ', RMSLE(xgboost.predict(X_test), y_test))\n",
    "print('Accuracy_train: ', RMSLE(xgboost.predict(X_train), y_train))"
   ]
  },
  {
   "cell_type": "code",
   "execution_count": 123,
   "metadata": {},
   "outputs": [
    {
     "name": "stdout",
     "output_type": "stream",
     "text": [
      "Best_params:  {'colsample_bytree': 0.6, 'subsample': 0.6}\n",
      "Best score:  -0.11924281281749133\n",
      "Accuracy_test:  0.14110823118221202\n",
      "Accuracy_train:  0.05511285767658037\n"
     ]
    }
   ],
   "source": [
    "xgboost5 = XGBRegressor(\n",
    "     learning_rate = 0.1, \n",
    "     n_estimators = 130, \n",
    "     max_depth = 4, \n",
    "     min_child_weight = 1, \n",
    "     gamma = 0, \n",
    "     subsample = 0.8, \n",
    "     colsample_bytree = 0.8,\n",
    "     n_jobs = -1,\n",
    "     scale_pos_weight = 1,\n",
    "     random_state=42)\n",
    "\n",
    "grid_params = {\n",
    "      'subsample':[i/10.0 for i in range(5,10)],\n",
    "      'colsample_bytree':[i/10.0 for i in range(5,10)]\n",
    "}\n",
    "\n",
    "grid_search5 = GridSearchCV(estimator=xgboost5, param_grid=grid_params, cv=5, scoring=rmsle)\n",
    "grid_search5.fit(X=X_train, y=y_train)\n",
    "print('Best_params: ', grid_search5.best_params_)\n",
    "print('Best score: ', grid_search5.best_score_)\n",
    "xgboost5.fit(X_train, y_train)\n",
    "print('Accuracy_test: ', RMSLE(xgboost5.predict(X_test), y_test))\n",
    "print('Accuracy_train: ', RMSLE(xgboost5.predict(X_train), y_train))"
   ]
  },
  {
   "cell_type": "code",
   "execution_count": 126,
   "metadata": {},
   "outputs": [
    {
     "name": "stdout",
     "output_type": "stream",
     "text": [
      "Best_params:  {'reg_alpha': 1e-07, 'reg_lambda': 1}\n",
      "Best score:  -0.11924281562294091\n",
      "Accuracy_test:  0.1327745613474578\n",
      "Accuracy_train:  0.061245050077215125\n"
     ]
    }
   ],
   "source": [
    "xgboost6 = XGBRegressor(\n",
    "     learning_rate = 0.1, \n",
    "     n_estimators = 130, \n",
    "     max_depth = 4, \n",
    "     min_child_weight = 1, \n",
    "     subsample = 0.6, \n",
    "     colsample_bytree = 0.6,\n",
    "     gamma = 0, \n",
    "     n_jobs = -1,\n",
    "     scale_pos_weight = 1,\n",
    "     random_state=42)\n",
    "\n",
    "grid_params = {\n",
    "     'reg_alpha': [1e-6, 1e-5, 1e-4, 1e-3],\n",
    "     #'reg_lambda': [0.95, 0.97, 0.99, 1.01, 1.02]\n",
    "     'reg_lambda': [0, 0.1, 0.5, 1, 1.5, 3]\n",
    "}\n",
    "\n",
    "grid_search6 = GridSearchCV(estimator=xgboost6, param_grid=grid_params, cv=5, scoring=rmsle)\n",
    "grid_search6.fit(X=X_train, y=y_train)\n",
    "print('Best_params: ', grid_search6.best_params_)\n",
    "print('Best score: ', grid_search6.best_score_)\n",
    "xgboost6.fit(X_train, y_train)\n",
    "print('Accuracy_test: ', RMSLE(xgboost6.predict(X_test), y_test))\n",
    "print('Accuracy_train: ', RMSLE(xgboost6.predict(X_train), y_train))"
   ]
  },
  {
   "cell_type": "code",
   "execution_count": 129,
   "metadata": {},
   "outputs": [
    {
     "name": "stdout",
     "output_type": "stream",
     "text": [
      "CV-results: [-0.11454504 -0.12711951 -0.12745518 -0.11316584 -0.12114036]\n",
      "Mean: -0.12068518735270743\n",
      "Accuracy_test:  0.1308055220020709\n",
      "Accuracy_train:  0.0607040551676799\n"
     ]
    }
   ],
   "source": [
    "xgboost = XGBRegressor(\n",
    "     learning_rate = 0.1, \n",
    "     n_estimators = 130, \n",
    "     max_depth = 4, \n",
    "     min_child_weight = 1, \n",
    "     gamma = 0,\n",
    "     reg_alpha = 1e-3,\n",
    "     reg_lambda = 1.5,\n",
    "     subsample = 0.6, \n",
    "     colsample_bytree = 0.6,\n",
    "     n_jobs = -1,\n",
    "     scale_pos_weight = 1,\n",
    "     random_state=42)\n",
    "xgboost_score = cross_val_score(estimator=xgboost, X=X_train, y=y_train, scoring=rmsle, cv=5)\n",
    "print('CV-results: {}'.format(xgboost_score))\n",
    "print('Mean: {}'.format(np.mean(xgboost_score)))\n",
    "xgboost.fit(X_train, y_train)\n",
    "print('Accuracy_test: ', RMSLE(xgboost.predict(X_test), y_test))\n",
    "print('Accuracy_train: ', RMSLE(xgboost.predict(X_train), y_train))"
   ]
  },
  {
   "cell_type": "code",
   "execution_count": 130,
   "metadata": {},
   "outputs": [
    {
     "name": "stdout",
     "output_type": "stream",
     "text": [
      "Best_params:  {'gamma': 0.0}\n",
      "Best score:  -0.12069128767562957\n",
      "Accuracy_test:  0.1308055220020709\n",
      "Accuracy_train:  0.0607040551676799\n"
     ]
    }
   ],
   "source": [
    "xgboost7 = XGBRegressor(\n",
    "     learning_rate = 0.1, \n",
    "     n_estimators = 130, \n",
    "     max_depth = 4, \n",
    "     min_child_weight = 1, \n",
    "     gamma = 0, \n",
    "     subsample = 0.6, \n",
    "     colsample_bytree = 0.6,\n",
    "     reg_alpha = 1e-3,\n",
    "     reg_lambda = 1.5,\n",
    "     n_jobs = -1,\n",
    "     scale_pos_weight = 1,\n",
    "     random_state=42)\n",
    "\n",
    "grid_params = {\n",
    "     'gamma': [i/100000.0 for i in range(0, 10)]\n",
    "}\n",
    "\n",
    "grid_search7 = GridSearchCV(estimator=xgboost7, param_grid=grid_params, cv=5, scoring=rmsle)\n",
    "grid_search7.fit(X=X_train, y=y_train)\n",
    "print('Best_params: ', grid_search7.best_params_)\n",
    "print('Best score: ', grid_search7.best_score_)\n",
    "xgboost7.fit(X_train, y_train)\n",
    "print('Accuracy_test: ', RMSLE(xgboost7.predict(X_test), y_test))\n",
    "print('Accuracy_train: ', RMSLE(xgboost7.predict(X_train), y_train))"
   ]
  },
  {
   "cell_type": "code",
   "execution_count": 131,
   "metadata": {},
   "outputs": [],
   "source": [
    "xgboost_opt = XGBRegressor(\n",
    "     learning_rate = 0.1, \n",
    "     n_estimators = 130, \n",
    "     max_depth = 4, \n",
    "     min_child_weight = 1, \n",
    "     gamma = 0, \n",
    "     subsample = 0.6, \n",
    "     colsample_bytree = 0.6,\n",
    "     reg_alpha = 1e-3,\n",
    "     reg_lambda = 1.5,\n",
    "     n_jobs = -1,\n",
    "     scale_pos_weight = 1,\n",
    "     random_state=42)"
   ]
  },
  {
   "cell_type": "code",
   "execution_count": 132,
   "metadata": {},
   "outputs": [
    {
     "name": "stdout",
     "output_type": "stream",
     "text": [
      "1\n",
      "21\n",
      "41\n",
      "61\n",
      "81\n",
      "101\n",
      "121\n",
      "141\n",
      "161\n",
      "181\n",
      "201\n",
      "221\n",
      "241\n",
      "261\n",
      "281\n",
      "301\n",
      "321\n"
     ]
    }
   ],
   "source": [
    "new_result = []\n",
    "for n_features in range(1, 341, 20):\n",
    "    print(n_features)\n",
    "    new_features = feature_importances(n_features)\n",
    "    X_new = X.loc[:, new_features]\n",
    "    X_train, X_test, y_train, y_test = train_test_split(X_new, y, test_size=0.2, random_state=42, shuffle=True)\n",
    "    xgboost_score = cross_val_score(estimator=xgboost_opt, X=X_train, y=y_train, scoring=rmsle, cv=5)\n",
    "    new_result.append([n_features, np.mean(xgboost_score)])"
   ]
  },
  {
   "cell_type": "code",
   "execution_count": 133,
   "metadata": {},
   "outputs": [
    {
     "data": {
      "image/png": "[encoded data removed]",
      "text/plain": [
       "<Figure size 432x288 with 1 Axes>"
      ]
     },
     "metadata": {},
     "output_type": "display_data"
    }
   ],
   "source": [
    "new_result = np.array(new_result)\n",
    "sns.lineplot(x=new_result[:, 0], y=new_result[:, 1]);"
   ]
  },
  {
   "cell_type": "code",
   "execution_count": 136,
   "metadata": {},
   "outputs": [
    {
     "data": {
      "text/html": [
       "<div>\n",
       "<style scoped>\n",
       "    .dataframe tbody tr th:only-of-type {\n",
       "        vertical-align: middle;\n",
       "    }\n",
       "\n",
       "    .dataframe tbody tr th {\n",
       "        vertical-align: top;\n",
       "    }\n",
       "\n",
       "    .dataframe thead th {\n",
       "        text-align: right;\n",
       "    }\n",
       "</style>\n",
       "<table border=\"1\" class=\"dataframe\">\n",
       "  <thead>\n",
       "    <tr style=\"text-align: right;\">\n",
       "      <th></th>\n",
       "      <th>0</th>\n",
       "      <th>1</th>\n",
       "    </tr>\n",
       "  </thead>\n",
       "  <tbody>\n",
       "    <tr>\n",
       "      <th>22</th>\n",
       "      <td>244</td>\n",
       "      <td>-0.118748</td>\n",
       "    </tr>\n",
       "    <tr>\n",
       "      <th>3</th>\n",
       "      <td>206</td>\n",
       "      <td>-0.118965</td>\n",
       "    </tr>\n",
       "    <tr>\n",
       "      <th>24</th>\n",
       "      <td>248</td>\n",
       "      <td>-0.119005</td>\n",
       "    </tr>\n",
       "  </tbody>\n",
       "</table>\n",
       "</div>"
      ],
      "text/plain": [
       "      0         1\n",
       "22  244 -0.118748\n",
       "3   206 -0.118965\n",
       "24  248 -0.119005"
      ]
     },
     "execution_count": 136,
     "metadata": {},
     "output_type": "execute_result"
    }
   ],
   "source": [
    "reduce_features = pd.DataFrame(new_result)\n",
    "reduce_features.sort_values(by=1, ascending=False).head(n=3)"
   ]
  },
  {
   "cell_type": "code",
   "execution_count": 135,
   "metadata": {},
   "outputs": [
    {
     "name": "stdout",
     "output_type": "stream",
     "text": [
      "200\n",
      "202\n",
      "204\n",
      "206\n",
      "208\n",
      "210\n",
      "212\n",
      "214\n",
      "216\n",
      "218\n",
      "220\n",
      "222\n",
      "224\n",
      "226\n",
      "228\n",
      "230\n",
      "232\n",
      "234\n",
      "236\n",
      "238\n",
      "240\n",
      "242\n",
      "244\n",
      "246\n",
      "248\n"
     ]
    }
   ],
   "source": [
    "new_result = []\n",
    "for n_features in range(200, 250, 2):\n",
    "    print(n_features)\n",
    "    new_features = feature_importances(n_features)\n",
    "    X_new = X.loc[:, new_features]\n",
    "    X_train, X_test, y_train, y_test = train_test_split(X_new, y, test_size=0.2, random_state=42, shuffle=True)\n",
    "    xgboost_score = cross_val_score(estimator=xgboost_opt, X=X_train, y=y_train, scoring=rmsle, cv=5)\n",
    "    new_result.append([n_features, np.mean(xgboost_score)])"
   ]
  },
  {
   "cell_type": "code",
   "execution_count": 137,
   "metadata": {},
   "outputs": [
    {
     "data": {
      "text/html": [
       "<div>\n",
       "<style scoped>\n",
       "    .dataframe tbody tr th:only-of-type {\n",
       "        vertical-align: middle;\n",
       "    }\n",
       "\n",
       "    .dataframe tbody tr th {\n",
       "        vertical-align: top;\n",
       "    }\n",
       "\n",
       "    .dataframe thead th {\n",
       "        text-align: right;\n",
       "    }\n",
       "</style>\n",
       "<table border=\"1\" class=\"dataframe\">\n",
       "  <thead>\n",
       "    <tr style=\"text-align: right;\">\n",
       "      <th></th>\n",
       "      <th>0</th>\n",
       "      <th>1</th>\n",
       "    </tr>\n",
       "  </thead>\n",
       "  <tbody>\n",
       "    <tr>\n",
       "      <th>22</th>\n",
       "      <td>244</td>\n",
       "      <td>-0.118748</td>\n",
       "    </tr>\n",
       "    <tr>\n",
       "      <th>3</th>\n",
       "      <td>206</td>\n",
       "      <td>-0.118965</td>\n",
       "    </tr>\n",
       "    <tr>\n",
       "      <th>24</th>\n",
       "      <td>248</td>\n",
       "      <td>-0.119005</td>\n",
       "    </tr>\n",
       "  </tbody>\n",
       "</table>\n",
       "</div>"
      ],
      "text/plain": [
       "      0         1\n",
       "22  244 -0.118748\n",
       "3   206 -0.118965\n",
       "24  248 -0.119005"
      ]
     },
     "execution_count": 137,
     "metadata": {},
     "output_type": "execute_result"
    }
   ],
   "source": [
    "reduce_features = pd.DataFrame(new_result)\n",
    "reduce_features.sort_values(by=1, ascending=False).head(n=3)"
   ]
  },
  {
   "cell_type": "code",
   "execution_count": 140,
   "metadata": {},
   "outputs": [
    {
     "name": "stdout",
     "output_type": "stream",
     "text": [
      "New train shape:  (1448, 244)\n",
      "New test shape:  (1459, 244)\n",
      "CV-results: [-0.10756794 -0.12239583 -0.12051636 -0.10908709 -0.12284451]\n",
      "Mean: -0.11648234598515166\n",
      "Accuracy_test:  0.12927572631157971\n",
      "Accuracy_train:  0.05845277532045836\n"
     ]
    }
   ],
   "source": [
    "# xgboost_stack\n",
    "\n",
    "n_features_ker_ridge_stack = 244 \n",
    "f_impo = feature_importances(n_features_ker_ridge_stack)\n",
    "data_for_answer = X.loc[:, f_impo]\n",
    "data_test_new = data_test.loc[:, f_impo]\n",
    "print('New train shape: ', data_for_answer.shape)\n",
    "print('New test shape: ', data_test_new.shape)\n",
    "X_train, X_test, y_train, y_test = train_test_split(data_for_answer, y, test_size=0.2, random_state=42, shuffle=True)\n",
    "\n",
    "xgboost_opt = XGBRegressor(\n",
    "     learning_rate = 0.1 / 7, \n",
    "     n_estimators = 130 * 7, \n",
    "     max_depth = 4, \n",
    "     min_child_weight = 1, \n",
    "     gamma = 0, \n",
    "     subsample = 0.6, \n",
    "     colsample_bytree = 0.6,\n",
    "     reg_alpha = 1e-3,\n",
    "     reg_lambda = 1.5,\n",
    "     n_jobs = -1,\n",
    "     scale_pos_weight = 1,\n",
    "     random_state=42)\n",
    "xgboost_score = cross_val_score(estimator=xgboost_opt, X=X_train, y=y_train, scoring=rmsle, cv=5)\n",
    "print('CV-results: {}'.format(xgboost_score))\n",
    "print('Mean: {}'.format(np.mean(xgboost_score)))\n",
    "xgboost_opt.fit(X_train, y_train)\n",
    "print('Accuracy_test: ', RMSLE(xgboost_opt.predict(X_test), y_test))\n",
    "print('Accuracy_train: ', RMSLE(xgboost_opt.predict(X_train), y_train))"
   ]
  },
  {
   "cell_type": "code",
   "execution_count": 139,
   "metadata": {},
   "outputs": [
    {
     "name": "stdout",
     "output_type": "stream",
     "text": [
      "New train shape:  (1448, 244)\n",
      "New test shape:  (1459, 244)\n",
      "--------------------------------------\n",
      "1\n",
      "CV-results: [-0.11430713 -0.12562471 -0.122868   -0.11201214 -0.11892799]\n",
      "Mean: -0.11874799196243331\n",
      "--------------------------------------\n",
      "2\n",
      "CV-results: [-0.10877917 -0.1238297  -0.12389026 -0.11133921 -0.12124204]\n",
      "Mean: -0.11781607793516051\n",
      "--------------------------------------\n",
      "3\n",
      "CV-results: [-0.10952169 -0.12122193 -0.12133188 -0.11167686 -0.11790274]\n",
      "Mean: -0.11633102111023075\n",
      "--------------------------------------\n",
      "4\n",
      "CV-results: [-0.10899981 -0.12072394 -0.12228317 -0.10888006 -0.12309731]\n",
      "Mean: -0.11679686097464734\n",
      "--------------------------------------\n",
      "5\n",
      "CV-results: [-0.10734977 -0.12137475 -0.12299944 -0.11151728 -0.12089948]\n",
      "Mean: -0.1168281437770097\n",
      "--------------------------------------\n",
      "6\n",
      "CV-results: [-0.10625526 -0.12380617 -0.12180654 -0.10883615 -0.12234365]\n",
      "Mean: -0.11660955262669233\n",
      "--------------------------------------\n",
      "7\n",
      "CV-results: [-0.10756794 -0.12239583 -0.12051636 -0.10908709 -0.12284451]\n",
      "Mean: -0.11648234598515166\n",
      "--------------------------------------\n",
      "8\n",
      "CV-results: [-0.10662252 -0.12419965 -0.1212707  -0.10964154 -0.12179692]\n",
      "Mean: -0.11670626619212028\n",
      "--------------------------------------\n",
      "9\n",
      "CV-results: [-0.10817625 -0.12462995 -0.12115975 -0.11019514 -0.12093593]\n",
      "Mean: -0.1170194038727362\n"
     ]
    }
   ],
   "source": [
    "n_features_ker_ridge_stack = 244 \n",
    "f_impo = feature_importances(n_features_ker_ridge_stack)\n",
    "data_for_answer = X.loc[:, f_impo]\n",
    "data_test_new = data_test.loc[:, f_impo]\n",
    "print('New train shape: ', data_for_answer.shape)\n",
    "print('New test shape: ', data_test_new.shape)\n",
    "X_train, X_test, y_train, y_test = train_test_split(data_for_answer, y, test_size=0.2, random_state=42, shuffle=True)\n",
    "for i in range(1, 10):\n",
    "    print('--------------------------------------')\n",
    "    print(i)\n",
    "    xgboost_opt = XGBRegressor(\n",
    "         learning_rate = 0.1 / i, \n",
    "         n_estimators = 130 * i, \n",
    "         max_depth = 4, \n",
    "         min_child_weight = 1, \n",
    "         gamma = 0, \n",
    "         subsample = 0.6, \n",
    "         colsample_bytree = 0.6,\n",
    "         reg_alpha = 1e-3,\n",
    "         reg_lambda = 1.5,\n",
    "         n_jobs = -1,\n",
    "         scale_pos_weight = 1,\n",
    "         random_state=42)\n",
    "    xgboost_score = cross_val_score(estimator=xgboost_opt, X=X_train, y=y_train, scoring=rmsle, cv=5)\n",
    "    print('CV-results: {}'.format(xgboost_score))\n",
    "    print('Mean: {}'.format(np.mean(xgboost_score)))\n",
    "#     xgboost_opt.fit(X_train, y_train)\n",
    "#     print('Accuracy_test: ', RMSLE(xgboost_opt.predict(X_test), y_test))\n",
    "#     print('Accuracy_train: ', RMSLE(xgboost_opt.predict(X_train), y_train))"
   ]
  },
  {
   "cell_type": "markdown",
   "metadata": {},
   "source": [
    "# XGBRegressor"
   ]
  },
  {
   "cell_type": "code",
   "execution_count": 54,
   "metadata": {},
   "outputs": [],
   "source": [
    "def feature_importances(n_features_return):    \n",
    "    model = XGBRegressor()\n",
    "    model.fit(X, y)\n",
    "    feature_importance = pd.DataFrame(data=model.feature_importances_, index=X.columns, columns=['Importance'])\n",
    "    feature_importance = feature_importance.sort_values(by='Importance', ascending=False)\n",
    "    plt.figure(figsize=(15,8))\n",
    "    sns.barplot(x=feature_importance.iloc[:n_features_return, :].index, y='Importance', \n",
    "                data=feature_importance.iloc[:n_features_return, :], color='gray', orient='v')\n",
    "    plt.title('Feature importance')\n",
    "    plt.tick_params(rotation=90)\n",
    "    return feature_importance.index[:n_features_return]"
   ]
  },
  {
   "cell_type": "code",
   "execution_count": 57,
   "metadata": {},
   "outputs": [],
   "source": [
    "X_new = X.loc[:, f_impo]"
   ]
  },
  {
   "cell_type": "code",
   "execution_count": 58,
   "metadata": {},
   "outputs": [
    {
     "data": {
      "text/plain": [
       "Index(['OverallCond', 'x0 x1', 'x1 x3', 'LotFrontage', 'BsmtExposure', 'x0 x3',\n",
       "       'x3 x4', 'TotalBathrooms', 'x0 x9', 'x8 x9', 'x1 x2', 'x3 x7', 'x1 x5',\n",
       "       'Neighborhood_Crawfor', 'x2 x3', 'x0 x8', 'x0 x4', 'x0 x5', 'BsmtQual',\n",
       "       'Exterior1st_BrkFace', 'Neighborhood_StoneBr', 'ScreenPorch', 'x1 x4',\n",
       "       'LotArea_7', 'x7 x8', 'SaleType_New', 'LotArea_0', 'x1 x7',\n",
       "       'Diff2ndCondition_Flag', 'x9^2', 'x5 x7', 'SaleCondition_Abnorml',\n",
       "       'x8^2', 'KitchenQual', 'MSZoning_C (all)', 'MoSold_2', 'x0 x7', 'x1^2',\n",
       "       'BsmtFinType1_GLQ', 'x2 x5', 'FireplaceQu', 'Functional_Typ',\n",
       "       'BsmtUnfSF_0', 'LotConfig_CulDSac', 'x3 x6', 'BsmtFinType1_Unf',\n",
       "       'BsmtFinSF1_0', 'x6 x9', 'x5^2', 'OverallQual', 'x1 x8',\n",
       "       'Neighborhood_CollgCr', 'Neighborhood_ClearCr', 'x0 x6', 'x2 x9',\n",
       "       'x0 x2', 'HeatingQC', 'KitchenAbvGr', '2ndFlrSF_1',\n",
       "       'GarageType_CarPort', 'x4 x7', 'x4 x8', 'GarageType_Attchd',\n",
       "       'BldgType_1Fam', 'Fireplaces', 'CentralAir', 'x6 x8', 'LandSlope_Flag',\n",
       "       'Neighborhood_Somerst', 'BedroomAbvGr', 'MoSold_12', 'MSZoning_RM',\n",
       "       'ExterQual', 'PoolArea', 'GarageFinish_3', 'Fence_MnPrv',\n",
       "       'LotShape_Reg', 'MSSubClass_30', 'SaleCondition_Normal', 'BsmtCond'],\n",
       "      dtype='object')"
      ]
     },
     "execution_count": 58,
     "metadata": {},
     "output_type": "execute_result"
    }
   ],
   "source": [
    "f_impo"
   ]
  },
  {
   "cell_type": "code",
   "execution_count": null,
   "metadata": {},
   "outputs": [],
   "source": [
    "data_test_new = data_test.loc[:, f_impo]"
   ]
  },
  {
   "cell_type": "code",
   "execution_count": null,
   "metadata": {},
   "outputs": [],
   "source": [
    "X_new.shape"
   ]
  },
  {
   "cell_type": "code",
   "execution_count": null,
   "metadata": {},
   "outputs": [],
   "source": [
    "data_test_new.shape"
   ]
  },
  {
   "cell_type": "code",
   "execution_count": null,
   "metadata": {},
   "outputs": [],
   "source": [
    "X_train, X_test, y_train, y_test = train_test_split(X_new, y, test_size=0.2, random_state=42, shuffle=True)"
   ]
  },
  {
   "cell_type": "code",
   "execution_count": null,
   "metadata": {},
   "outputs": [],
   "source": [
    "xgboost_opt = XGBRegressor(\n",
    "     learning_rate = 0.1 / 9, \n",
    "     n_estimators = 130 * 9, \n",
    "     max_depth = 4, \n",
    "     min_child_weight = 3, \n",
    "     gamma = 1, \n",
    "     subsample = 0.6, \n",
    "     colsample_bytree = 0.6,\n",
    "     reg_alpha = 0.5,\n",
    "     reg_lambda = 0.99,\n",
    "     n_jobs = -1,\n",
    "     scale_pos_weight = 1,\n",
    "     random_state=42)\n",
    "xgboost_opt.fit(X_train, y_train)"
   ]
  },
  {
   "cell_type": "code",
   "execution_count": null,
   "metadata": {},
   "outputs": [],
   "source": [
    "print('Accuracy_test: ', RMSLE(xgboost_opt.predict(X_test), y_test))\n",
    "print('Accuracy_train: ', RMSLE(xgboost_opt.predict(X_train), y_train))"
   ]
  },
  {
   "cell_type": "raw",
   "metadata": {},
   "source": [
    "Accuracy_test:  0.12877882313558806\n",
    "Accuracy_train:  0.06222488594416389"
   ]
  },
  {
   "cell_type": "code",
   "execution_count": null,
   "metadata": {},
   "outputs": [],
   "source": [
    "sns.scatterplot(x=xgboost_opt.predict(X_test), y=y_test)\n",
    "sns.lineplot(np.linspace(50000, 450000, 100), np.linspace(50000, 450000, 100))"
   ]
  },
  {
   "cell_type": "markdown",
   "metadata": {},
   "source": [
    "# PCA"
   ]
  },
  {
   "cell_type": "code",
   "execution_count": null,
   "metadata": {},
   "outputs": [],
   "source": [
    "xgboost_est = XGBRegressor(random_state=42)\n",
    "xgboost_score = cross_val_score(estimator=xgboost_est, X=X_train, y=y_train, scoring=rmsle, cv=3)\n",
    "print('CV-results: {}'.format(xgboost_score))\n",
    "print('Mean: {}'.format(np.mean(xgboost_score)))"
   ]
  },
  {
   "cell_type": "code",
   "execution_count": null,
   "metadata": {},
   "outputs": [],
   "source": [
    "def pca_reduction(start, finish, step, estimator, est_name): \n",
    "    result = []\n",
    "    for i in range(start, finish, step):\n",
    "        #print(i)\n",
    "        pca = PCA(n_components=i, random_state=42)\n",
    "        est = clone(estimator) \n",
    "        X_new = pca.fit_transform(X_train)\n",
    "        score = cross_val_score(estimator=est, X=X_new, y=y_train, scoring=rmsle, cv=3)\n",
    "        result.append([i, np.mean(score)])\n",
    "    sns.lineplot(x=np.array(result)[:, 0], y=np.array(result)[:, 1])\n",
    "    plt.title('PCA for {}'.format(est_name))\n",
    "    plt.xlabel('Number of components')\n",
    "    plt.ylabel('CV-quality')\n",
    "    plt.show()"
   ]
  },
  {
   "cell_type": "code",
   "execution_count": null,
   "metadata": {},
   "outputs": [],
   "source": [
    "for name, reg in regressors.items():\n",
    "    pca_reduction(10, 331, 30, reg, est_name=name)"
   ]
  },
  {
   "cell_type": "code",
   "execution_count": null,
   "metadata": {},
   "outputs": [],
   "source": [
    "pca_list = [300, 130, 150, 250, 40, 50, 40, 50]\n",
    "reg_index = ['Ridge', 'Lasso', 'Elastic', 'Bayesian', 'RandForest', 'GradBoost', 'LassoLars', 'XGBoost']\n",
    "\n",
    "pca_components = {pair[0] : pair[1] for pair in zip(reg_index, pca_list)}"
   ]
  },
  {
   "cell_type": "code",
   "execution_count": null,
   "metadata": {},
   "outputs": [],
   "source": [
    "pca_quality = pd.DataFrame(index=regressors.keys(), columns=['Quality'])\n",
    "for name, reg in regressors.items():\n",
    "    new_reg = clone(reg)\n",
    "    pca = PCA(n_components=pca_components[name])\n",
    "    pca.fit(X_train)\n",
    "    X_new = pca.fit_transform(X_train)\n",
    "    score = cross_val_score(estimator=new_reg, X=X_new, y=y_train, scoring=rmsle, cv=5)\n",
    "    pca_quality.loc[name, 'Quality'] = np.mean(score)"
   ]
  },
  {
   "cell_type": "code",
   "execution_count": null,
   "metadata": {},
   "outputs": [],
   "source": [
    "pca_quality"
   ]
  },
  {
   "cell_type": "code",
   "execution_count": null,
   "metadata": {},
   "outputs": [],
   "source": [
    "quality"
   ]
  },
  {
   "cell_type": "code",
   "execution_count": null,
   "metadata": {},
   "outputs": [],
   "source": [
    "np.mean(pca_quality)"
   ]
  },
  {
   "cell_type": "markdown",
   "metadata": {},
   "source": [
    "# Feature importances"
   ]
  },
  {
   "cell_type": "code",
   "execution_count": 59,
   "metadata": {},
   "outputs": [],
   "source": [
    "def feature_importances(n_features_return, plot_flag=False):    \n",
    "    model = XGBRegressor()\n",
    "    model.fit(X, y)\n",
    "    feature_importance = pd.DataFrame(data=model.feature_importances_, index=X.columns, columns=['Importance'])\n",
    "    feature_importance = feature_importance.sort_values(by='Importance', ascending=False)\n",
    "    \n",
    "    if plot_flag:\n",
    "        plt.figure(figsize=(15,8))\n",
    "        sns.barplot(x=feature_importance.iloc[:n_features_return, :].index, y='Importance', \n",
    "                    data=feature_importance.iloc[:n_features_return, :], color='gray', orient='v')\n",
    "        plt.title('Feature importance')\n",
    "        plt.tick_params(rotation=90)\n",
    "    return feature_importance.index[:n_features_return]"
   ]
  },
  {
   "cell_type": "code",
   "execution_count": null,
   "metadata": {},
   "outputs": [],
   "source": [
    "result = []\n",
    "for n_features in range(1, 341, 20):\n",
    "    print(n_features)\n",
    "    new_features = feature_importances(n_features)\n",
    "    X_new = X.loc[:, new_features]\n",
    "    X_train, X_test, y_train, y_test = train_test_split(X_new, y, test_size=0.2, random_state=42, shuffle=True)\n",
    "    \n",
    "    xgboost_opt = XGBRegressor(\n",
    "     learning_rate = 0.1, \n",
    "     n_estimators = 130, \n",
    "     max_depth = 4, \n",
    "     min_child_weight = 1, \n",
    "     gamma = 0.0001, \n",
    "     subsample = 0.6, \n",
    "     colsample_bytree = 0.6,\n",
    "     reg_alpha = 0.01,\n",
    "     reg_lambda = 0.99,\n",
    "     n_jobs = -1,\n",
    "     scale_pos_weight = 1,\n",
    "     random_state=42)\n",
    "    xgboost_score = cross_val_score(estimator=xgboost_opt, X=X_train, y=y_train, scoring=rmsle, cv=5)\n",
    "    result.append([n_features, np.mean(xgboost_score)])"
   ]
  },
  {
   "cell_type": "code",
   "execution_count": null,
   "metadata": {},
   "outputs": [],
   "source": [
    "result = np.array(result)\n",
    "sns.lineplot(x=result[:, 0], y=result[:, 1]);"
   ]
  },
  {
   "cell_type": "markdown",
   "metadata": {},
   "source": [
    "# Kernel Ridge"
   ]
  },
  {
   "cell_type": "code",
   "execution_count": 60,
   "metadata": {},
   "outputs": [],
   "source": [
    "X_train, X_test, y_train, y_test = train_test_split(X, y, test_size=0.2, random_state=42, shuffle=True)"
   ]
  },
  {
   "cell_type": "code",
   "execution_count": 61,
   "metadata": {},
   "outputs": [
    {
     "data": {
      "text/plain": [
       "({'alpha': 0.1, 'coef0': 1, 'degree': 5, 'gamma': 0.001, 'kernel': 'poly'},\n",
       " -408713201.7902388)"
      ]
     },
     "execution_count": 61,
     "metadata": {},
     "output_type": "execute_result"
    }
   ],
   "source": [
    "# laplacian exponential chi2\n",
    "#  sigmoid\n",
    "grid_params = [\n",
    "#  {'kernel': ['laplacian'],\n",
    "#     'alpha': [0.001, 0.01, 0.1, 1, 10, 100, 250],\n",
    "#     'gamma': [0.001, 0.01, 0.1, 1, 10, 100, 250]\n",
    "#  },\n",
    "#  {'kernel': ['rbf'],\n",
    "#   'alpha': [0.001, 0.01, 0.1, 1, 10, 100, 250],\n",
    "#   'gamma': [0.001, 0.01, 0.1, 1, 10, 100, 250]\n",
    "#  },\n",
    " \n",
    " {'kernel': ['poly'],\n",
    "   'degree': [2, 3, 4, 5, 6, 7],\n",
    "    'alpha': [1e-4, 1e-3, 1e-2, 1e-1, 1],\n",
    "    'gamma': [1e-5, 1e-4, 1e-3, 1e-2, 1e-1],\n",
    "    'coef0': [0.1, 0.5, 1, 5, 10]\n",
    " }\n",
    "]\n",
    "kernel_ridge_reg = KernelRidge()\n",
    "grid_search = GridSearchCV(estimator=kernel_ridge_reg, param_grid=grid_params, scoring='neg_mean_squared_error', \n",
    "                           cv=5)\n",
    "grid_search.fit(X=X_train, y=y_train)\n",
    "grid_search.best_params_, grid_search.best_score_"
   ]
  },
  {
   "cell_type": "raw",
   "metadata": {},
   "source": [
    "({'alpha': 0.1, 'coef0': 1, 'degree': 5, 'gamma': 0.001, 'kernel': 'poly'},\n",
    " -408713201.7902388)"
   ]
  },
  {
   "cell_type": "code",
   "execution_count": 62,
   "metadata": {},
   "outputs": [
    {
     "data": {
      "text/plain": [
       "KernelRidge(alpha=0.1, coef0=1, degree=5, gamma=0.001, kernel='poly',\n",
       "      kernel_params=None)"
      ]
     },
     "execution_count": 62,
     "metadata": {},
     "output_type": "execute_result"
    }
   ],
   "source": [
    "grid_search.best_estimator_"
   ]
  },
  {
   "cell_type": "code",
   "execution_count": 63,
   "metadata": {},
   "outputs": [
    {
     "name": "stdout",
     "output_type": "stream",
     "text": [
      "Accuracy_test:  0.12786833260548353\n",
      "Accuracy_train:  0.0731204172412442\n"
     ]
    }
   ],
   "source": [
    "ker_ridge_est_stack = KernelRidge(alpha=0.1, coef0=1, degree=5, gamma=0.001, kernel='poly', kernel_params=None)\n",
    "ker_ridge_est_stack.fit(X_train, y_train)\n",
    "print('Accuracy_test: ', RMSLE(ker_ridge_est_stack.predict(X_test), y_test))\n",
    "print('Accuracy_train: ', RMSLE(ker_ridge_est_stack.predict(X_train), y_train))"
   ]
  },
  {
   "cell_type": "raw",
   "metadata": {},
   "source": [
    "Accuracy_test:  0.12786833260548353\n",
    "Accuracy_train:  0.0731204172412442"
   ]
  },
  {
   "cell_type": "code",
   "execution_count": 65,
   "metadata": {},
   "outputs": [
    {
     "name": "stdout",
     "output_type": "stream",
     "text": [
      "1\n",
      "21\n",
      "41\n",
      "61\n",
      "81\n",
      "101\n",
      "121\n",
      "141\n",
      "161\n",
      "181\n",
      "201\n",
      "221\n",
      "241\n",
      "261\n",
      "281\n",
      "301\n",
      "321\n"
     ]
    }
   ],
   "source": [
    "new_result = []\n",
    "for n_features in range(1, 341, 20):\n",
    "    print(n_features)\n",
    "    new_features = feature_importances(n_features)\n",
    "    X_new = X.loc[:, new_features]\n",
    "    X_train, X_test, y_train, y_test = train_test_split(X_new, y, test_size=0.2, random_state=42, shuffle=True)\n",
    "    kernel_ridge_score = cross_val_score(estimator=ker_ridge_est_stack, X=X_train, y=y_train, scoring=rmsle, cv=5)\n",
    "    new_result.append([n_features, np.mean(kernel_ridge_score)])"
   ]
  },
  {
   "cell_type": "code",
   "execution_count": 66,
   "metadata": {},
   "outputs": [
    {
     "data": {
      "image/png": "[encoded data removed]",
      "text/plain": [
       "<Figure size 432x288 with 1 Axes>"
      ]
     },
     "metadata": {},
     "output_type": "display_data"
    }
   ],
   "source": [
    "new_result = np.array(new_result)\n",
    "sns.lineplot(x=new_result[:, 0], y=new_result[:, 1]);"
   ]
  },
  {
   "cell_type": "code",
   "execution_count": 67,
   "metadata": {},
   "outputs": [
    {
     "data": {
      "text/html": [
       "<div>\n",
       "<style scoped>\n",
       "    .dataframe tbody tr th:only-of-type {\n",
       "        vertical-align: middle;\n",
       "    }\n",
       "\n",
       "    .dataframe tbody tr th {\n",
       "        vertical-align: top;\n",
       "    }\n",
       "\n",
       "    .dataframe thead th {\n",
       "        text-align: right;\n",
       "    }\n",
       "</style>\n",
       "<table border=\"1\" class=\"dataframe\">\n",
       "  <thead>\n",
       "    <tr style=\"text-align: right;\">\n",
       "      <th></th>\n",
       "      <th>0</th>\n",
       "      <th>1</th>\n",
       "    </tr>\n",
       "  </thead>\n",
       "  <tbody>\n",
       "    <tr>\n",
       "      <th>8</th>\n",
       "      <td>161.0</td>\n",
       "      <td>-0.109335</td>\n",
       "    </tr>\n",
       "    <tr>\n",
       "      <th>5</th>\n",
       "      <td>101.0</td>\n",
       "      <td>-0.109481</td>\n",
       "    </tr>\n",
       "    <tr>\n",
       "      <th>4</th>\n",
       "      <td>81.0</td>\n",
       "      <td>-0.109528</td>\n",
       "    </tr>\n",
       "    <tr>\n",
       "      <th>7</th>\n",
       "      <td>141.0</td>\n",
       "      <td>-0.109968</td>\n",
       "    </tr>\n",
       "    <tr>\n",
       "      <th>9</th>\n",
       "      <td>181.0</td>\n",
       "      <td>-0.110417</td>\n",
       "    </tr>\n",
       "    <tr>\n",
       "      <th>3</th>\n",
       "      <td>61.0</td>\n",
       "      <td>-0.110509</td>\n",
       "    </tr>\n",
       "    <tr>\n",
       "      <th>6</th>\n",
       "      <td>121.0</td>\n",
       "      <td>-0.110699</td>\n",
       "    </tr>\n",
       "    <tr>\n",
       "      <th>10</th>\n",
       "      <td>201.0</td>\n",
       "      <td>-0.111291</td>\n",
       "    </tr>\n",
       "    <tr>\n",
       "      <th>11</th>\n",
       "      <td>221.0</td>\n",
       "      <td>-0.111789</td>\n",
       "    </tr>\n",
       "    <tr>\n",
       "      <th>13</th>\n",
       "      <td>261.0</td>\n",
       "      <td>-0.111911</td>\n",
       "    </tr>\n",
       "    <tr>\n",
       "      <th>14</th>\n",
       "      <td>281.0</td>\n",
       "      <td>-0.112136</td>\n",
       "    </tr>\n",
       "    <tr>\n",
       "      <th>12</th>\n",
       "      <td>241.0</td>\n",
       "      <td>-0.112385</td>\n",
       "    </tr>\n",
       "    <tr>\n",
       "      <th>15</th>\n",
       "      <td>301.0</td>\n",
       "      <td>-0.112457</td>\n",
       "    </tr>\n",
       "    <tr>\n",
       "      <th>16</th>\n",
       "      <td>321.0</td>\n",
       "      <td>-0.113021</td>\n",
       "    </tr>\n",
       "    <tr>\n",
       "      <th>2</th>\n",
       "      <td>41.0</td>\n",
       "      <td>-0.116832</td>\n",
       "    </tr>\n",
       "    <tr>\n",
       "      <th>1</th>\n",
       "      <td>21.0</td>\n",
       "      <td>-0.129218</td>\n",
       "    </tr>\n",
       "    <tr>\n",
       "      <th>0</th>\n",
       "      <td>1.0</td>\n",
       "      <td>-0.402035</td>\n",
       "    </tr>\n",
       "  </tbody>\n",
       "</table>\n",
       "</div>"
      ],
      "text/plain": [
       "        0         1\n",
       "8   161.0 -0.109335\n",
       "5   101.0 -0.109481\n",
       "4    81.0 -0.109528\n",
       "7   141.0 -0.109968\n",
       "9   181.0 -0.110417\n",
       "3    61.0 -0.110509\n",
       "6   121.0 -0.110699\n",
       "10  201.0 -0.111291\n",
       "11  221.0 -0.111789\n",
       "13  261.0 -0.111911\n",
       "14  281.0 -0.112136\n",
       "12  241.0 -0.112385\n",
       "15  301.0 -0.112457\n",
       "16  321.0 -0.113021\n",
       "2    41.0 -0.116832\n",
       "1    21.0 -0.129218\n",
       "0     1.0 -0.402035"
      ]
     },
     "execution_count": 67,
     "metadata": {},
     "output_type": "execute_result"
    }
   ],
   "source": [
    "reduce_features = pd.DataFrame(new_result)\n",
    "reduce_features.sort_values(by=1, ascending=False)"
   ]
  },
  {
   "cell_type": "code",
   "execution_count": 68,
   "metadata": {},
   "outputs": [
    {
     "name": "stdout",
     "output_type": "stream",
     "text": [
      "140\n",
      "141\n",
      "142\n",
      "143\n",
      "144\n",
      "145\n",
      "146\n",
      "147\n",
      "148\n",
      "149\n",
      "150\n",
      "151\n",
      "152\n",
      "153\n",
      "154\n"
     ]
    }
   ],
   "source": [
    "new_result = []\n",
    "for n_features in range(140, 155, 1):\n",
    "    print(n_features)\n",
    "    new_features = feature_importances(n_features)\n",
    "    X_new = X.loc[:, new_features]\n",
    "    X_train, X_test, y_train, y_test = train_test_split(X_new, y, test_size=0.2, random_state=42, shuffle=True)\n",
    "    kernel_ridge_score = cross_val_score(estimator=ker_ridge_est_stack, X=X_train, y=y_train, scoring=rmsle, cv=5)\n",
    "    new_result.append([n_features, np.mean(kernel_ridge_score)])"
   ]
  },
  {
   "cell_type": "code",
   "execution_count": 69,
   "metadata": {},
   "outputs": [
    {
     "data": {
      "text/html": [
       "<div>\n",
       "<style scoped>\n",
       "    .dataframe tbody tr th:only-of-type {\n",
       "        vertical-align: middle;\n",
       "    }\n",
       "\n",
       "    .dataframe tbody tr th {\n",
       "        vertical-align: top;\n",
       "    }\n",
       "\n",
       "    .dataframe thead th {\n",
       "        text-align: right;\n",
       "    }\n",
       "</style>\n",
       "<table border=\"1\" class=\"dataframe\">\n",
       "  <thead>\n",
       "    <tr style=\"text-align: right;\">\n",
       "      <th></th>\n",
       "      <th>0</th>\n",
       "      <th>1</th>\n",
       "    </tr>\n",
       "  </thead>\n",
       "  <tbody>\n",
       "    <tr>\n",
       "      <th>14</th>\n",
       "      <td>154</td>\n",
       "      <td>-0.109131</td>\n",
       "    </tr>\n",
       "    <tr>\n",
       "      <th>12</th>\n",
       "      <td>152</td>\n",
       "      <td>-0.109238</td>\n",
       "    </tr>\n",
       "    <tr>\n",
       "      <th>13</th>\n",
       "      <td>153</td>\n",
       "      <td>-0.109258</td>\n",
       "    </tr>\n",
       "    <tr>\n",
       "      <th>11</th>\n",
       "      <td>151</td>\n",
       "      <td>-0.109286</td>\n",
       "    </tr>\n",
       "    <tr>\n",
       "      <th>7</th>\n",
       "      <td>147</td>\n",
       "      <td>-0.109333</td>\n",
       "    </tr>\n",
       "    <tr>\n",
       "      <th>8</th>\n",
       "      <td>148</td>\n",
       "      <td>-0.109347</td>\n",
       "    </tr>\n",
       "    <tr>\n",
       "      <th>9</th>\n",
       "      <td>149</td>\n",
       "      <td>-0.109351</td>\n",
       "    </tr>\n",
       "    <tr>\n",
       "      <th>10</th>\n",
       "      <td>150</td>\n",
       "      <td>-0.109352</td>\n",
       "    </tr>\n",
       "    <tr>\n",
       "      <th>6</th>\n",
       "      <td>146</td>\n",
       "      <td>-0.109535</td>\n",
       "    </tr>\n",
       "    <tr>\n",
       "      <th>5</th>\n",
       "      <td>145</td>\n",
       "      <td>-0.109611</td>\n",
       "    </tr>\n",
       "    <tr>\n",
       "      <th>4</th>\n",
       "      <td>144</td>\n",
       "      <td>-0.109628</td>\n",
       "    </tr>\n",
       "    <tr>\n",
       "      <th>3</th>\n",
       "      <td>143</td>\n",
       "      <td>-0.109865</td>\n",
       "    </tr>\n",
       "    <tr>\n",
       "      <th>0</th>\n",
       "      <td>140</td>\n",
       "      <td>-0.109951</td>\n",
       "    </tr>\n",
       "    <tr>\n",
       "      <th>1</th>\n",
       "      <td>141</td>\n",
       "      <td>-0.109968</td>\n",
       "    </tr>\n",
       "    <tr>\n",
       "      <th>2</th>\n",
       "      <td>142</td>\n",
       "      <td>-0.109968</td>\n",
       "    </tr>\n",
       "  </tbody>\n",
       "</table>\n",
       "</div>"
      ],
      "text/plain": [
       "      0         1\n",
       "14  154 -0.109131\n",
       "12  152 -0.109238\n",
       "13  153 -0.109258\n",
       "11  151 -0.109286\n",
       "7   147 -0.109333\n",
       "8   148 -0.109347\n",
       "9   149 -0.109351\n",
       "10  150 -0.109352\n",
       "6   146 -0.109535\n",
       "5   145 -0.109611\n",
       "4   144 -0.109628\n",
       "3   143 -0.109865\n",
       "0   140 -0.109951\n",
       "1   141 -0.109968\n",
       "2   142 -0.109968"
      ]
     },
     "execution_count": 69,
     "metadata": {},
     "output_type": "execute_result"
    }
   ],
   "source": [
    "reduce_features = pd.DataFrame(new_result)\n",
    "reduce_features.sort_values(by=1, ascending=False)"
   ]
  },
  {
   "cell_type": "code",
   "execution_count": 82,
   "metadata": {},
   "outputs": [
    {
     "name": "stdout",
     "output_type": "stream",
     "text": [
      "New train shape:  (1448, 154)\n",
      "New test shape:  (1459, 154)\n",
      "CV-results: [-0.09597719 -0.11473426 -0.11622211 -0.10434091 -0.11438057]\n",
      "Mean: -0.10913100839270273\n",
      "Accuracy_test:  0.12665956195783387\n",
      "Accuracy_train:  0.08573933293581593\n"
     ]
    }
   ],
   "source": [
    "# ker_ridge_stack\n",
    "\n",
    "n_features_ker_ridge_stack = 154 \n",
    "f_impo = feature_importances(n_features_ker_ridge_stack)\n",
    "data_for_answer = X.loc[:, f_impo]\n",
    "data_test_new = data_test.loc[:, f_impo]\n",
    "print('New train shape: ', data_for_answer.shape)\n",
    "print('New test shape: ', data_test_new.shape)\n",
    "X_train, X_test, y_train, y_test = train_test_split(data_for_answer, y, test_size=0.2, random_state=42, shuffle=True)\n",
    "ker_ridge_est_stack = KernelRidge(alpha=0.1, coef0=1, degree=5, gamma=0.001, kernel='poly', kernel_params=None)\n",
    "ker_ridge_score = cross_val_score(estimator=ker_ridge_est_stack, X=X_train, y=y_train, scoring=rmsle, cv=5)\n",
    "print('CV-results: {}'.format(ker_ridge_score))\n",
    "print('Mean: {}'.format(np.mean(ker_ridge_score)))\n",
    "ker_ridge_est_stack.fit(X_train, y_train)\n",
    "print('Accuracy_test: ', RMSLE(ker_ridge_est_stack.predict(X_test), y_test))\n",
    "print('Accuracy_train: ', RMSLE(ker_ridge_est_stack.predict(X_train), y_train))"
   ]
  },
  {
   "cell_type": "raw",
   "metadata": {},
   "source": [
    "New train shape:  (1448, 154)\n",
    "New test shape:  (1459, 154)\n",
    "CV-results: [-0.09597719 -0.11473426 -0.11622211 -0.10434091 -0.11438057]\n",
    "Mean: -0.10913100839270273\n",
    "Accuracy_test:  0.12665956195783387\n",
    "Accuracy_train:  0.08573933293581593"
   ]
  },
  {
   "cell_type": "code",
   "execution_count": null,
   "metadata": {},
   "outputs": [],
   "source": [
    "X_train_stack = pd.DataFrame(data=ker_ridge_est.predict(X_train), columns=['Kernel_Ridge'])\n",
    "X_test_stack = pd.DataFrame(data=ker_ridge_est.predict(X_test), columns=['Kernel_Ridge'])"
   ]
  },
  {
   "cell_type": "code",
   "execution_count": null,
   "metadata": {},
   "outputs": [],
   "source": [
    "to_file = pd.DataFrame()\n",
    "to_file['Id'] = test_ids\n",
    "to_file['SalePrice'] = pd.DataFrame(ker_ridge_est.predict(data_test_new))\n",
    "to_file.to_csv(path_or_buf=\"answer_kernel_ridge_1.csv\", sep=',', header=True, index=False)"
   ]
  },
  {
   "cell_type": "code",
   "execution_count": null,
   "metadata": {},
   "outputs": [],
   "source": [
    "# # Best params for score 0.11605:\n",
    "# KernelRidge(alpha=0.1, coef0=1, degree=5, gamma=0.001, kernel='poly', kernel_params=None)\n",
    "# f_impo = feature_importances(154)"
   ]
  },
  {
   "cell_type": "markdown",
   "metadata": {},
   "source": [
    "# Bayesian Reg"
   ]
  },
  {
   "cell_type": "code",
   "execution_count": 99,
   "metadata": {},
   "outputs": [],
   "source": [
    "X_train, X_test, y_train, y_test = train_test_split(X, y, test_size=0.2, random_state=42, shuffle=True)"
   ]
  },
  {
   "cell_type": "code",
   "execution_count": 85,
   "metadata": {},
   "outputs": [
    {
     "data": {
      "text/plain": [
       "({'alpha_1': 1e-07, 'n_iter': 100, 'tol': 0.01}, -519307069.75953615)"
      ]
     },
     "execution_count": 85,
     "metadata": {},
     "output_type": "execute_result"
    }
   ],
   "source": [
    "grid_params = {\n",
    "    'n_iter': [100, 300, 600, 1000],\n",
    "    'tol': [1e-5, 1e-4, 1e-3, 1e-2],\n",
    "    'alpha_1': [1e-7, 1e-6, 1e-5, 1e-4, 1e-3],\n",
    "    #'alpha_2': [1e-7, 1e-6, 1e-5, 1e-4, 1e-3],\n",
    "    #'lambda_1': [1e-7, 1e-6, 1e-5, 1e-4, 1e-3],\n",
    "    #'lambda_2': [1e-7, 1e-6, 1e-5, 1e-4, 1e-3]\n",
    "}\n",
    "bayes_reg = BayesianRidge()\n",
    "grid_search = GridSearchCV(estimator=bayes_reg, param_grid=grid_params, scoring='neg_mean_squared_error', \n",
    "                           cv=5)\n",
    "grid_search.fit(X=X_train, y=y_train)\n",
    "grid_search.best_params_, grid_search.best_score_"
   ]
  },
  {
   "cell_type": "code",
   "execution_count": 86,
   "metadata": {},
   "outputs": [
    {
     "data": {
      "text/plain": [
       "({'alpha_2': 0.001, 'lambda_1': 0.001, 'lambda_2': 1e-07}, -519307017.9018114)"
      ]
     },
     "execution_count": 86,
     "metadata": {},
     "output_type": "execute_result"
    }
   ],
   "source": [
    "grid_params = {\n",
    "    #'n_iter': [100, 300, 600, 1000],\n",
    "    #'tol': [1e-5, 1e-4, 1e-3, 1e-2],\n",
    "    #'alpha_1': [1e-7, 1e-6, 1e-5, 1e-4, 1e-3],\n",
    "    'alpha_2': [1e-7, 1e-6, 1e-5, 1e-4, 1e-3],\n",
    "    'lambda_1': [1e-7, 1e-6, 1e-5, 1e-4, 1e-3],\n",
    "    'lambda_2': [1e-7, 1e-6, 1e-5, 1e-4, 1e-3]\n",
    "}\n",
    "bayes_reg = grid_search.best_estimator_\n",
    "grid_search = GridSearchCV(estimator=bayes_reg, param_grid=grid_params, scoring='neg_mean_squared_error', \n",
    "                           cv=5)\n",
    "grid_search.fit(X=X_train, y=y_train)\n",
    "grid_search.best_params_, grid_search.best_score_"
   ]
  },
  {
   "cell_type": "raw",
   "metadata": {},
   "source": [
    "({'alpha_2': 0.0001, 'lambda_1': 0.001, 'lambda_2': 1e-07},\n",
    " -477863358.23614556)"
   ]
  },
  {
   "cell_type": "code",
   "execution_count": 87,
   "metadata": {},
   "outputs": [
    {
     "data": {
      "text/plain": [
       "BayesianRidge(alpha_1=1e-07, alpha_2=0.001, compute_score=False, copy_X=True,\n",
       "       fit_intercept=True, lambda_1=0.001, lambda_2=1e-07, n_iter=100,\n",
       "       normalize=False, tol=0.01, verbose=False)"
      ]
     },
     "execution_count": 87,
     "metadata": {},
     "output_type": "execute_result"
    }
   ],
   "source": [
    "grid_search.best_estimator_"
   ]
  },
  {
   "cell_type": "raw",
   "metadata": {},
   "source": [
    "BayesianRidge(alpha_1=1e-07, alpha_2=0.001, compute_score=False, copy_X=True,\n",
    "       fit_intercept=True, lambda_1=0.001, lambda_2=1e-07, n_iter=100,\n",
    "       normalize=False, tol=0.01, verbose=False)"
   ]
  },
  {
   "cell_type": "code",
   "execution_count": 88,
   "metadata": {},
   "outputs": [
    {
     "data": {
      "text/plain": [
       "({'n_iter': 50, 'tol': 0.01}, -519307017.9018114)"
      ]
     },
     "execution_count": 88,
     "metadata": {},
     "output_type": "execute_result"
    }
   ],
   "source": [
    "grid_params = {\n",
    "    'n_iter': [50, 60, 70, 80, 90, 100, 110, 115],\n",
    "    'tol': [1e-6, 1e-5, 1e-4, 1e-3, 1e-2],\n",
    "    #'alpha_1': [1e-7, 1e-6, 1e-5, 1e-4, 1e-3],\n",
    "#     'alpha_2': [1e-7, 1e-6, 1e-5, 1e-4, 1e-3],\n",
    "#     'lambda_1': [1e-7, 1e-6, 1e-5, 1e-4, 1e-3],\n",
    "#     'lambda_2': [1e-7, 1e-6, 1e-5, 1e-4, 1e-3]\n",
    "}\n",
    "bayes_reg = BayesianRidge(alpha_1=1e-07, alpha_2=0.001, compute_score=False, copy_X=True,\n",
    "       fit_intercept=True, lambda_1=0.001, lambda_2=1e-07, n_iter=100,\n",
    "       normalize=False, tol=0.01, verbose=False)\n",
    "grid_search = GridSearchCV(estimator=bayes_reg, param_grid=grid_params, scoring='neg_mean_squared_error', \n",
    "                           cv=5)\n",
    "grid_search.fit(X=X_train, y=y_train)\n",
    "grid_search.best_params_, grid_search.best_score_"
   ]
  },
  {
   "cell_type": "code",
   "execution_count": 89,
   "metadata": {},
   "outputs": [
    {
     "name": "stdout",
     "output_type": "stream",
     "text": [
      "Accuracy_test:  0.14662611878636905\n",
      "Accuracy_train:  0.10425858894780009\n"
     ]
    }
   ],
   "source": [
    "bayes_reg = BayesianRidge(alpha_1=1e-07, alpha_2=0.001, compute_score=False, copy_X=True,\n",
    "       fit_intercept=True, lambda_1=0.001, lambda_2=1e-07, n_iter=100,\n",
    "       normalize=False, tol=0.01, verbose=False)\n",
    "bayes_reg.fit(X_train, y_train)\n",
    "print('Accuracy_test: ', RMSLE(bayes_reg.predict(X_test), y_test))\n",
    "print('Accuracy_train: ', RMSLE(bayes_reg.predict(X_train), y_train))"
   ]
  },
  {
   "cell_type": "code",
   "execution_count": 91,
   "metadata": {},
   "outputs": [
    {
     "name": "stdout",
     "output_type": "stream",
     "text": [
      "1\n",
      "21\n",
      "41\n",
      "61\n",
      "81\n",
      "101\n",
      "121\n",
      "141\n",
      "161\n",
      "181\n",
      "201\n",
      "221\n",
      "241\n",
      "261\n",
      "281\n",
      "301\n",
      "321\n"
     ]
    }
   ],
   "source": [
    "new_result = []\n",
    "for n_features in range(1, 341, 20):\n",
    "    print(n_features)\n",
    "    new_features = feature_importances(n_features)\n",
    "    X_new = X.loc[:, new_features]\n",
    "    X_train, X_test, y_train, y_test = train_test_split(X_new, y, test_size=0.2, random_state=42, shuffle=True)\n",
    "    bayes_reg_score = cross_val_score(estimator=bayes_reg, X=X_train, y=y_train, scoring=rmsle, cv=5)\n",
    "    new_result.append([n_features, np.mean(bayes_reg_score)])"
   ]
  },
  {
   "cell_type": "code",
   "execution_count": 92,
   "metadata": {},
   "outputs": [
    {
     "data": {
      "image/png": "[encoded data removed]",
      "text/plain": [
       "<Figure size 432x288 with 1 Axes>"
      ]
     },
     "metadata": {},
     "output_type": "display_data"
    }
   ],
   "source": [
    "new_result = np.array(new_result)\n",
    "sns.lineplot(x=new_result[:, 0], y=new_result[:, 1]);"
   ]
  },
  {
   "cell_type": "code",
   "execution_count": 93,
   "metadata": {},
   "outputs": [
    {
     "data": {
      "text/html": [
       "<div>\n",
       "<style scoped>\n",
       "    .dataframe tbody tr th:only-of-type {\n",
       "        vertical-align: middle;\n",
       "    }\n",
       "\n",
       "    .dataframe tbody tr th {\n",
       "        vertical-align: top;\n",
       "    }\n",
       "\n",
       "    .dataframe thead th {\n",
       "        text-align: right;\n",
       "    }\n",
       "</style>\n",
       "<table border=\"1\" class=\"dataframe\">\n",
       "  <thead>\n",
       "    <tr style=\"text-align: right;\">\n",
       "      <th></th>\n",
       "      <th>0</th>\n",
       "      <th>1</th>\n",
       "    </tr>\n",
       "  </thead>\n",
       "  <tbody>\n",
       "    <tr>\n",
       "      <th>6</th>\n",
       "      <td>121.0</td>\n",
       "      <td>-0.123361</td>\n",
       "    </tr>\n",
       "    <tr>\n",
       "      <th>7</th>\n",
       "      <td>141.0</td>\n",
       "      <td>-0.123661</td>\n",
       "    </tr>\n",
       "    <tr>\n",
       "      <th>3</th>\n",
       "      <td>61.0</td>\n",
       "      <td>-0.123833</td>\n",
       "    </tr>\n",
       "    <tr>\n",
       "      <th>8</th>\n",
       "      <td>161.0</td>\n",
       "      <td>-0.123960</td>\n",
       "    </tr>\n",
       "    <tr>\n",
       "      <th>5</th>\n",
       "      <td>101.0</td>\n",
       "      <td>-0.124427</td>\n",
       "    </tr>\n",
       "    <tr>\n",
       "      <th>4</th>\n",
       "      <td>81.0</td>\n",
       "      <td>-0.124432</td>\n",
       "    </tr>\n",
       "    <tr>\n",
       "      <th>9</th>\n",
       "      <td>181.0</td>\n",
       "      <td>-0.125333</td>\n",
       "    </tr>\n",
       "    <tr>\n",
       "      <th>12</th>\n",
       "      <td>241.0</td>\n",
       "      <td>-0.125816</td>\n",
       "    </tr>\n",
       "    <tr>\n",
       "      <th>11</th>\n",
       "      <td>221.0</td>\n",
       "      <td>-0.126016</td>\n",
       "    </tr>\n",
       "    <tr>\n",
       "      <th>13</th>\n",
       "      <td>261.0</td>\n",
       "      <td>-0.126276</td>\n",
       "    </tr>\n",
       "    <tr>\n",
       "      <th>10</th>\n",
       "      <td>201.0</td>\n",
       "      <td>-0.126278</td>\n",
       "    </tr>\n",
       "    <tr>\n",
       "      <th>14</th>\n",
       "      <td>281.0</td>\n",
       "      <td>-0.127535</td>\n",
       "    </tr>\n",
       "    <tr>\n",
       "      <th>15</th>\n",
       "      <td>301.0</td>\n",
       "      <td>-0.127771</td>\n",
       "    </tr>\n",
       "    <tr>\n",
       "      <th>16</th>\n",
       "      <td>321.0</td>\n",
       "      <td>-0.128349</td>\n",
       "    </tr>\n",
       "    <tr>\n",
       "      <th>2</th>\n",
       "      <td>41.0</td>\n",
       "      <td>-0.401932</td>\n",
       "    </tr>\n",
       "    <tr>\n",
       "      <th>1</th>\n",
       "      <td>21.0</td>\n",
       "      <td>-0.401933</td>\n",
       "    </tr>\n",
       "    <tr>\n",
       "      <th>0</th>\n",
       "      <td>1.0</td>\n",
       "      <td>-0.401933</td>\n",
       "    </tr>\n",
       "  </tbody>\n",
       "</table>\n",
       "</div>"
      ],
      "text/plain": [
       "        0         1\n",
       "6   121.0 -0.123361\n",
       "7   141.0 -0.123661\n",
       "3    61.0 -0.123833\n",
       "8   161.0 -0.123960\n",
       "5   101.0 -0.124427\n",
       "4    81.0 -0.124432\n",
       "9   181.0 -0.125333\n",
       "12  241.0 -0.125816\n",
       "11  221.0 -0.126016\n",
       "13  261.0 -0.126276\n",
       "10  201.0 -0.126278\n",
       "14  281.0 -0.127535\n",
       "15  301.0 -0.127771\n",
       "16  321.0 -0.128349\n",
       "2    41.0 -0.401932\n",
       "1    21.0 -0.401933\n",
       "0     1.0 -0.401933"
      ]
     },
     "execution_count": 93,
     "metadata": {},
     "output_type": "execute_result"
    }
   ],
   "source": [
    "reduce_features = pd.DataFrame(new_result)\n",
    "reduce_features.sort_values(by=1, ascending=False)"
   ]
  },
  {
   "cell_type": "code",
   "execution_count": 94,
   "metadata": {},
   "outputs": [
    {
     "name": "stdout",
     "output_type": "stream",
     "text": [
      "100\n",
      "102\n",
      "104\n",
      "106\n",
      "108\n",
      "110\n",
      "112\n",
      "114\n",
      "116\n",
      "118\n",
      "120\n",
      "122\n",
      "124\n",
      "126\n",
      "128\n",
      "130\n",
      "132\n",
      "134\n",
      "136\n",
      "138\n",
      "140\n"
     ]
    }
   ],
   "source": [
    "new_result = []\n",
    "for n_features in range(100, 141, 2):\n",
    "    print(n_features)\n",
    "    new_features = feature_importances(n_features)\n",
    "    X_new = X.loc[:, new_features]\n",
    "    X_train, X_test, y_train, y_test = train_test_split(X_new, y, test_size=0.2, random_state=42, shuffle=True)\n",
    "    bayes_reg_score = cross_val_score(estimator=bayes_reg, X=X_train, y=y_train, scoring=rmsle, cv=5)\n",
    "    new_result.append([n_features, np.mean(bayes_reg_score)])"
   ]
  },
  {
   "cell_type": "code",
   "execution_count": 95,
   "metadata": {},
   "outputs": [
    {
     "data": {
      "text/html": [
       "<div>\n",
       "<style scoped>\n",
       "    .dataframe tbody tr th:only-of-type {\n",
       "        vertical-align: middle;\n",
       "    }\n",
       "\n",
       "    .dataframe tbody tr th {\n",
       "        vertical-align: top;\n",
       "    }\n",
       "\n",
       "    .dataframe thead th {\n",
       "        text-align: right;\n",
       "    }\n",
       "</style>\n",
       "<table border=\"1\" class=\"dataframe\">\n",
       "  <thead>\n",
       "    <tr style=\"text-align: right;\">\n",
       "      <th></th>\n",
       "      <th>0</th>\n",
       "      <th>1</th>\n",
       "    </tr>\n",
       "  </thead>\n",
       "  <tbody>\n",
       "    <tr>\n",
       "      <th>9</th>\n",
       "      <td>118</td>\n",
       "      <td>-0.123185</td>\n",
       "    </tr>\n",
       "    <tr>\n",
       "      <th>10</th>\n",
       "      <td>120</td>\n",
       "      <td>-0.123269</td>\n",
       "    </tr>\n",
       "    <tr>\n",
       "      <th>12</th>\n",
       "      <td>124</td>\n",
       "      <td>-0.123685</td>\n",
       "    </tr>\n",
       "    <tr>\n",
       "      <th>20</th>\n",
       "      <td>140</td>\n",
       "      <td>-0.123709</td>\n",
       "    </tr>\n",
       "    <tr>\n",
       "      <th>11</th>\n",
       "      <td>122</td>\n",
       "      <td>-0.123726</td>\n",
       "    </tr>\n",
       "    <tr>\n",
       "      <th>15</th>\n",
       "      <td>130</td>\n",
       "      <td>-0.123781</td>\n",
       "    </tr>\n",
       "    <tr>\n",
       "      <th>8</th>\n",
       "      <td>116</td>\n",
       "      <td>-0.123800</td>\n",
       "    </tr>\n",
       "    <tr>\n",
       "      <th>14</th>\n",
       "      <td>128</td>\n",
       "      <td>-0.123808</td>\n",
       "    </tr>\n",
       "    <tr>\n",
       "      <th>19</th>\n",
       "      <td>138</td>\n",
       "      <td>-0.123942</td>\n",
       "    </tr>\n",
       "    <tr>\n",
       "      <th>17</th>\n",
       "      <td>134</td>\n",
       "      <td>-0.124056</td>\n",
       "    </tr>\n",
       "    <tr>\n",
       "      <th>16</th>\n",
       "      <td>132</td>\n",
       "      <td>-0.124078</td>\n",
       "    </tr>\n",
       "    <tr>\n",
       "      <th>18</th>\n",
       "      <td>136</td>\n",
       "      <td>-0.124113</td>\n",
       "    </tr>\n",
       "    <tr>\n",
       "      <th>13</th>\n",
       "      <td>126</td>\n",
       "      <td>-0.124128</td>\n",
       "    </tr>\n",
       "    <tr>\n",
       "      <th>3</th>\n",
       "      <td>106</td>\n",
       "      <td>-0.124449</td>\n",
       "    </tr>\n",
       "    <tr>\n",
       "      <th>7</th>\n",
       "      <td>114</td>\n",
       "      <td>-0.124516</td>\n",
       "    </tr>\n",
       "    <tr>\n",
       "      <th>5</th>\n",
       "      <td>110</td>\n",
       "      <td>-0.124543</td>\n",
       "    </tr>\n",
       "    <tr>\n",
       "      <th>1</th>\n",
       "      <td>102</td>\n",
       "      <td>-0.124556</td>\n",
       "    </tr>\n",
       "    <tr>\n",
       "      <th>2</th>\n",
       "      <td>104</td>\n",
       "      <td>-0.124573</td>\n",
       "    </tr>\n",
       "    <tr>\n",
       "      <th>6</th>\n",
       "      <td>112</td>\n",
       "      <td>-0.124643</td>\n",
       "    </tr>\n",
       "    <tr>\n",
       "      <th>0</th>\n",
       "      <td>100</td>\n",
       "      <td>-0.124749</td>\n",
       "    </tr>\n",
       "    <tr>\n",
       "      <th>4</th>\n",
       "      <td>108</td>\n",
       "      <td>-0.124870</td>\n",
       "    </tr>\n",
       "  </tbody>\n",
       "</table>\n",
       "</div>"
      ],
      "text/plain": [
       "      0         1\n",
       "9   118 -0.123185\n",
       "10  120 -0.123269\n",
       "12  124 -0.123685\n",
       "20  140 -0.123709\n",
       "11  122 -0.123726\n",
       "15  130 -0.123781\n",
       "8   116 -0.123800\n",
       "14  128 -0.123808\n",
       "19  138 -0.123942\n",
       "17  134 -0.124056\n",
       "16  132 -0.124078\n",
       "18  136 -0.124113\n",
       "13  126 -0.124128\n",
       "3   106 -0.124449\n",
       "7   114 -0.124516\n",
       "5   110 -0.124543\n",
       "1   102 -0.124556\n",
       "2   104 -0.124573\n",
       "6   112 -0.124643\n",
       "0   100 -0.124749\n",
       "4   108 -0.124870"
      ]
     },
     "execution_count": 95,
     "metadata": {},
     "output_type": "execute_result"
    }
   ],
   "source": [
    "reduce_features = pd.DataFrame(new_result)\n",
    "reduce_features.sort_values(by=1, ascending=False)"
   ]
  },
  {
   "cell_type": "code",
   "execution_count": 98,
   "metadata": {},
   "outputs": [
    {
     "name": "stdout",
     "output_type": "stream",
     "text": [
      "New train shape:  (1448, 118)\n",
      "New test shape:  (1459, 118)\n",
      "CV-results: [-0.10656333 -0.13324361 -0.14140763 -0.1152221  -0.11948774]\n",
      "Mean: -0.12318488108787981\n",
      "Accuracy_test:  0.14111867433828604\n",
      "Accuracy_train:  0.11067276310260521\n"
     ]
    }
   ],
   "source": [
    "# bay_stack\n",
    "\n",
    "n_features_bay_stack = 118\n",
    "f_impo = feature_importances(n_features_bay_stack)\n",
    "data_for_answer = X.loc[:, f_impo]\n",
    "data_test_new = data_test.loc[:, f_impo]\n",
    "print('New train shape: ', data_for_answer.shape)\n",
    "print('New test shape: ', data_test_new.shape)\n",
    "X_train, X_test, y_train, y_test = train_test_split(data_for_answer, y, test_size=0.2, random_state=42, shuffle=True)\n",
    "bay_est_stack = BayesianRidge(alpha_1=1e-07, alpha_2=0.001, compute_score=False, copy_X=True,\n",
    "       fit_intercept=True, lambda_1=0.001, lambda_2=1e-07, n_iter=100,\n",
    "       normalize=False, tol=0.01, verbose=False)\n",
    "\n",
    "bay_score = cross_val_score(estimator=bay_est_stack, X=X_train, y=y_train, scoring=rmsle, cv=5)\n",
    "print('CV-results: {}'.format(bay_score))\n",
    "print('Mean: {}'.format(np.mean(bay_score)))\n",
    "bay_est_stack.fit(X_train, y_train)\n",
    "print('Accuracy_test: ', RMSLE(bay_est_stack.predict(X_test), y_test))\n",
    "print('Accuracy_train: ', RMSLE(bay_est_stack.predict(X_train), y_train))"
   ]
  },
  {
   "cell_type": "raw",
   "metadata": {},
   "source": [
    "New train shape:  (1448, 118)\n",
    "New test shape:  (1459, 118)\n",
    "CV-results: [-0.10656333 -0.13324361 -0.14140763 -0.1152221  -0.11948774]\n",
    "Mean: -0.12318488108787981\n",
    "Accuracy_test:  0.14111867433828604\n",
    "Accuracy_train:  0.11067276310260521"
   ]
  },
  {
   "cell_type": "code",
   "execution_count": 100,
   "metadata": {},
   "outputs": [],
   "source": [
    "# np.log"
   ]
  },
  {
   "cell_type": "code",
   "execution_count": 101,
   "metadata": {},
   "outputs": [],
   "source": [
    "X_train, X_test, y_train, y_test = train_test_split(X, y, test_size=0.2, random_state=42, shuffle=True)"
   ]
  },
  {
   "cell_type": "code",
   "execution_count": 102,
   "metadata": {},
   "outputs": [
    {
     "data": {
      "text/plain": [
       "({'alpha_1': 1e-07, 'n_iter': 100, 'tol': 0.01}, -0.012520858873446982)"
      ]
     },
     "execution_count": 102,
     "metadata": {},
     "output_type": "execute_result"
    }
   ],
   "source": [
    "grid_params = {\n",
    "    'n_iter': [100, 300, 600, 1000],\n",
    "    'tol': [1e-5, 1e-4, 1e-3, 1e-2],\n",
    "    'alpha_1': [1e-7, 1e-6, 1e-5, 1e-4, 1e-3],\n",
    "    #'alpha_2': [1e-7, 1e-6, 1e-5, 1e-4, 1e-3],\n",
    "    #'lambda_1': [1e-7, 1e-6, 1e-5, 1e-4, 1e-3],\n",
    "    #'lambda_2': [1e-7, 1e-6, 1e-5, 1e-4, 1e-3]\n",
    "}\n",
    "bayes_reg = BayesianRidge()\n",
    "grid_search = GridSearchCV(estimator=bayes_reg, param_grid=grid_params, scoring='neg_mean_squared_error', \n",
    "                           cv=5)\n",
    "grid_search.fit(X=X_train, y=np.log1p(y_train))\n",
    "grid_search.best_params_, grid_search.best_score_"
   ]
  },
  {
   "cell_type": "code",
   "execution_count": 103,
   "metadata": {},
   "outputs": [
    {
     "data": {
      "text/plain": [
       "({'alpha_2': 0.001, 'lambda_1': 0.001, 'lambda_2': 1e-07},\n",
       " -0.012520841934909807)"
      ]
     },
     "execution_count": 103,
     "metadata": {},
     "output_type": "execute_result"
    }
   ],
   "source": [
    "grid_params = {\n",
    "    #'n_iter': [100, 300, 600, 1000],\n",
    "    #'tol': [1e-5, 1e-4, 1e-3, 1e-2],\n",
    "    #'alpha_1': [1e-7, 1e-6, 1e-5, 1e-4, 1e-3],\n",
    "    'alpha_2': [1e-7, 1e-6, 1e-5, 1e-4, 1e-3],\n",
    "    'lambda_1': [1e-7, 1e-6, 1e-5, 1e-4, 1e-3],\n",
    "    'lambda_2': [1e-7, 1e-6, 1e-5, 1e-4, 1e-3]\n",
    "}\n",
    "bayes_reg = grid_search.best_estimator_\n",
    "grid_search = GridSearchCV(estimator=bayes_reg, param_grid=grid_params, scoring='neg_mean_squared_error', \n",
    "                           cv=5)\n",
    "grid_search.fit(X=X_train, y=np.log1p(y_train))\n",
    "grid_search.best_params_, grid_search.best_score_"
   ]
  },
  {
   "cell_type": "code",
   "execution_count": 104,
   "metadata": {},
   "outputs": [
    {
     "data": {
      "text/plain": [
       "BayesianRidge(alpha_1=1e-07, alpha_2=0.001, compute_score=False, copy_X=True,\n",
       "       fit_intercept=True, lambda_1=0.001, lambda_2=1e-07, n_iter=100,\n",
       "       normalize=False, tol=0.01, verbose=False)"
      ]
     },
     "execution_count": 104,
     "metadata": {},
     "output_type": "execute_result"
    }
   ],
   "source": [
    "grid_search.best_estimator_"
   ]
  },
  {
   "cell_type": "code",
   "execution_count": 105,
   "metadata": {},
   "outputs": [],
   "source": [
    "bay_log_est = BayesianRidge(alpha_1=1e-07, alpha_2=0.001, compute_score=False, copy_X=True,\n",
    "       fit_intercept=True, lambda_1=0.001, lambda_2=1e-07, n_iter=100,\n",
    "       normalize=False, tol=0.01, verbose=False)"
   ]
  },
  {
   "cell_type": "code",
   "execution_count": 106,
   "metadata": {},
   "outputs": [
    {
     "name": "stdout",
     "output_type": "stream",
     "text": [
      "Accuracy_test:  0.12900741305693003\n",
      "Accuracy_train:  0.09021342826683848\n"
     ]
    }
   ],
   "source": [
    "bay_log_est.fit(X_train, np.log1p(y_train))\n",
    "print('Accuracy_test: ', RMSLE(np.expm1(bayes_reg.predict(X_test)), y_test))\n",
    "print('Accuracy_train: ', RMSLE(np.expm1(bayes_reg.predict(X_train)), y_train))"
   ]
  },
  {
   "cell_type": "code",
   "execution_count": 107,
   "metadata": {},
   "outputs": [
    {
     "name": "stdout",
     "output_type": "stream",
     "text": [
      "1\n",
      "21\n",
      "41\n",
      "61\n",
      "81\n",
      "101\n",
      "121\n",
      "141\n",
      "161\n",
      "181\n",
      "201\n",
      "221\n",
      "241\n",
      "261\n",
      "281\n",
      "301\n",
      "321\n"
     ]
    }
   ],
   "source": [
    "new_result = []\n",
    "for n_features in range(1, 341, 20):\n",
    "    print(n_features)\n",
    "    new_features = feature_importances(n_features)\n",
    "    X_new = X.loc[:, new_features]\n",
    "    X_train, X_test, y_train, y_test = train_test_split(X_new, y, test_size=0.2, random_state=42, shuffle=True)\n",
    "    bayes_reg_score = cross_val_score(estimator=bay_log_est, X=X_train, y=np.log1p(y_train), scoring=rmsle, cv=5)\n",
    "    new_result.append([n_features, np.mean(bayes_reg_score)])"
   ]
  },
  {
   "cell_type": "code",
   "execution_count": 109,
   "metadata": {},
   "outputs": [
    {
     "data": {
      "text/html": [
       "<div>\n",
       "<style scoped>\n",
       "    .dataframe tbody tr th:only-of-type {\n",
       "        vertical-align: middle;\n",
       "    }\n",
       "\n",
       "    .dataframe tbody tr th {\n",
       "        vertical-align: top;\n",
       "    }\n",
       "\n",
       "    .dataframe thead th {\n",
       "        text-align: right;\n",
       "    }\n",
       "</style>\n",
       "<table border=\"1\" class=\"dataframe\">\n",
       "  <thead>\n",
       "    <tr style=\"text-align: right;\">\n",
       "      <th></th>\n",
       "      <th>0</th>\n",
       "      <th>1</th>\n",
       "    </tr>\n",
       "  </thead>\n",
       "  <tbody>\n",
       "    <tr>\n",
       "      <th>4</th>\n",
       "      <td>81</td>\n",
       "      <td>-0.008346</td>\n",
       "    </tr>\n",
       "    <tr>\n",
       "      <th>3</th>\n",
       "      <td>61</td>\n",
       "      <td>-0.008366</td>\n",
       "    </tr>\n",
       "    <tr>\n",
       "      <th>5</th>\n",
       "      <td>101</td>\n",
       "      <td>-0.008411</td>\n",
       "    </tr>\n",
       "    <tr>\n",
       "      <th>7</th>\n",
       "      <td>141</td>\n",
       "      <td>-0.008412</td>\n",
       "    </tr>\n",
       "    <tr>\n",
       "      <th>6</th>\n",
       "      <td>121</td>\n",
       "      <td>-0.008414</td>\n",
       "    </tr>\n",
       "    <tr>\n",
       "      <th>8</th>\n",
       "      <td>161</td>\n",
       "      <td>-0.008414</td>\n",
       "    </tr>\n",
       "    <tr>\n",
       "      <th>9</th>\n",
       "      <td>181</td>\n",
       "      <td>-0.008474</td>\n",
       "    </tr>\n",
       "    <tr>\n",
       "      <th>10</th>\n",
       "      <td>201</td>\n",
       "      <td>-0.008545</td>\n",
       "    </tr>\n",
       "    <tr>\n",
       "      <th>11</th>\n",
       "      <td>221</td>\n",
       "      <td>-0.008550</td>\n",
       "    </tr>\n",
       "    <tr>\n",
       "      <th>12</th>\n",
       "      <td>241</td>\n",
       "      <td>-0.008563</td>\n",
       "    </tr>\n",
       "    <tr>\n",
       "      <th>13</th>\n",
       "      <td>261</td>\n",
       "      <td>-0.008597</td>\n",
       "    </tr>\n",
       "    <tr>\n",
       "      <th>14</th>\n",
       "      <td>281</td>\n",
       "      <td>-0.008644</td>\n",
       "    </tr>\n",
       "    <tr>\n",
       "      <th>15</th>\n",
       "      <td>301</td>\n",
       "      <td>-0.008680</td>\n",
       "    </tr>\n",
       "    <tr>\n",
       "      <th>16</th>\n",
       "      <td>321</td>\n",
       "      <td>-0.008682</td>\n",
       "    </tr>\n",
       "    <tr>\n",
       "      <th>2</th>\n",
       "      <td>41</td>\n",
       "      <td>-0.009098</td>\n",
       "    </tr>\n",
       "    <tr>\n",
       "      <th>1</th>\n",
       "      <td>21</td>\n",
       "      <td>-0.010261</td>\n",
       "    </tr>\n",
       "    <tr>\n",
       "      <th>0</th>\n",
       "      <td>1</td>\n",
       "      <td>-0.030276</td>\n",
       "    </tr>\n",
       "  </tbody>\n",
       "</table>\n",
       "</div>"
      ],
      "text/plain": [
       "      0         1\n",
       "4    81 -0.008346\n",
       "3    61 -0.008366\n",
       "5   101 -0.008411\n",
       "7   141 -0.008412\n",
       "6   121 -0.008414\n",
       "8   161 -0.008414\n",
       "9   181 -0.008474\n",
       "10  201 -0.008545\n",
       "11  221 -0.008550\n",
       "12  241 -0.008563\n",
       "13  261 -0.008597\n",
       "14  281 -0.008644\n",
       "15  301 -0.008680\n",
       "16  321 -0.008682\n",
       "2    41 -0.009098\n",
       "1    21 -0.010261\n",
       "0     1 -0.030276"
      ]
     },
     "execution_count": 109,
     "metadata": {},
     "output_type": "execute_result"
    }
   ],
   "source": [
    "reduce_features = pd.DataFrame(new_result)\n",
    "reduce_features.sort_values(by=1, ascending=False).head(n=3)"
   ]
  },
  {
   "cell_type": "code",
   "execution_count": 110,
   "metadata": {},
   "outputs": [
    {
     "data": {
      "image/png": "[encoded data removed]",
      "text/plain": [
       "<Figure size 432x288 with 1 Axes>"
      ]
     },
     "metadata": {},
     "output_type": "display_data"
    }
   ],
   "source": [
    "new_result = np.array(new_result)\n",
    "sns.lineplot(x=new_result[:, 0], y=new_result[:, 1]);"
   ]
  },
  {
   "cell_type": "code",
   "execution_count": 111,
   "metadata": {},
   "outputs": [
    {
     "name": "stdout",
     "output_type": "stream",
     "text": [
      "50\n",
      "52\n",
      "54\n",
      "56\n",
      "58\n",
      "60\n",
      "62\n",
      "64\n",
      "66\n",
      "68\n",
      "70\n",
      "72\n",
      "74\n",
      "76\n",
      "78\n",
      "80\n",
      "82\n",
      "84\n",
      "86\n",
      "88\n",
      "90\n",
      "92\n",
      "94\n",
      "96\n",
      "98\n"
     ]
    }
   ],
   "source": [
    "new_result = []\n",
    "for n_features in range(50, 100, 2):\n",
    "    print(n_features)\n",
    "    new_features = feature_importances(n_features)\n",
    "    X_new = X.loc[:, new_features]\n",
    "    X_train, X_test, y_train, y_test = train_test_split(X_new, y, test_size=0.2, random_state=42, shuffle=True)\n",
    "    bayes_reg_score = cross_val_score(estimator=bay_log_est, X=X_train, y=np.log1p(y_train), scoring=rmsle, cv=5)\n",
    "    new_result.append([n_features, np.mean(bayes_reg_score)])"
   ]
  },
  {
   "cell_type": "code",
   "execution_count": 112,
   "metadata": {},
   "outputs": [
    {
     "data": {
      "text/html": [
       "<div>\n",
       "<style scoped>\n",
       "    .dataframe tbody tr th:only-of-type {\n",
       "        vertical-align: middle;\n",
       "    }\n",
       "\n",
       "    .dataframe tbody tr th {\n",
       "        vertical-align: top;\n",
       "    }\n",
       "\n",
       "    .dataframe thead th {\n",
       "        text-align: right;\n",
       "    }\n",
       "</style>\n",
       "<table border=\"1\" class=\"dataframe\">\n",
       "  <thead>\n",
       "    <tr style=\"text-align: right;\">\n",
       "      <th></th>\n",
       "      <th>0</th>\n",
       "      <th>1</th>\n",
       "    </tr>\n",
       "  </thead>\n",
       "  <tbody>\n",
       "    <tr>\n",
       "      <th>11</th>\n",
       "      <td>72</td>\n",
       "      <td>-0.008297</td>\n",
       "    </tr>\n",
       "    <tr>\n",
       "      <th>14</th>\n",
       "      <td>78</td>\n",
       "      <td>-0.008300</td>\n",
       "    </tr>\n",
       "    <tr>\n",
       "      <th>10</th>\n",
       "      <td>70</td>\n",
       "      <td>-0.008307</td>\n",
       "    </tr>\n",
       "    <tr>\n",
       "      <th>12</th>\n",
       "      <td>74</td>\n",
       "      <td>-0.008313</td>\n",
       "    </tr>\n",
       "    <tr>\n",
       "      <th>13</th>\n",
       "      <td>76</td>\n",
       "      <td>-0.008319</td>\n",
       "    </tr>\n",
       "    <tr>\n",
       "      <th>4</th>\n",
       "      <td>58</td>\n",
       "      <td>-0.008327</td>\n",
       "    </tr>\n",
       "    <tr>\n",
       "      <th>15</th>\n",
       "      <td>80</td>\n",
       "      <td>-0.008338</td>\n",
       "    </tr>\n",
       "    <tr>\n",
       "      <th>16</th>\n",
       "      <td>82</td>\n",
       "      <td>-0.008347</td>\n",
       "    </tr>\n",
       "    <tr>\n",
       "      <th>5</th>\n",
       "      <td>60</td>\n",
       "      <td>-0.008351</td>\n",
       "    </tr>\n",
       "    <tr>\n",
       "      <th>9</th>\n",
       "      <td>68</td>\n",
       "      <td>-0.008363</td>\n",
       "    </tr>\n",
       "    <tr>\n",
       "      <th>8</th>\n",
       "      <td>66</td>\n",
       "      <td>-0.008363</td>\n",
       "    </tr>\n",
       "    <tr>\n",
       "      <th>6</th>\n",
       "      <td>62</td>\n",
       "      <td>-0.008363</td>\n",
       "    </tr>\n",
       "    <tr>\n",
       "      <th>17</th>\n",
       "      <td>84</td>\n",
       "      <td>-0.008370</td>\n",
       "    </tr>\n",
       "    <tr>\n",
       "      <th>19</th>\n",
       "      <td>88</td>\n",
       "      <td>-0.008377</td>\n",
       "    </tr>\n",
       "    <tr>\n",
       "      <th>7</th>\n",
       "      <td>64</td>\n",
       "      <td>-0.008380</td>\n",
       "    </tr>\n",
       "    <tr>\n",
       "      <th>20</th>\n",
       "      <td>90</td>\n",
       "      <td>-0.008400</td>\n",
       "    </tr>\n",
       "    <tr>\n",
       "      <th>18</th>\n",
       "      <td>86</td>\n",
       "      <td>-0.008403</td>\n",
       "    </tr>\n",
       "    <tr>\n",
       "      <th>21</th>\n",
       "      <td>92</td>\n",
       "      <td>-0.008418</td>\n",
       "    </tr>\n",
       "    <tr>\n",
       "      <th>23</th>\n",
       "      <td>96</td>\n",
       "      <td>-0.008424</td>\n",
       "    </tr>\n",
       "    <tr>\n",
       "      <th>24</th>\n",
       "      <td>98</td>\n",
       "      <td>-0.008424</td>\n",
       "    </tr>\n",
       "    <tr>\n",
       "      <th>22</th>\n",
       "      <td>94</td>\n",
       "      <td>-0.008425</td>\n",
       "    </tr>\n",
       "    <tr>\n",
       "      <th>3</th>\n",
       "      <td>56</td>\n",
       "      <td>-0.008547</td>\n",
       "    </tr>\n",
       "    <tr>\n",
       "      <th>2</th>\n",
       "      <td>54</td>\n",
       "      <td>-0.008595</td>\n",
       "    </tr>\n",
       "    <tr>\n",
       "      <th>1</th>\n",
       "      <td>52</td>\n",
       "      <td>-0.008611</td>\n",
       "    </tr>\n",
       "    <tr>\n",
       "      <th>0</th>\n",
       "      <td>50</td>\n",
       "      <td>-0.008925</td>\n",
       "    </tr>\n",
       "  </tbody>\n",
       "</table>\n",
       "</div>"
      ],
      "text/plain": [
       "     0         1\n",
       "11  72 -0.008297\n",
       "14  78 -0.008300\n",
       "10  70 -0.008307\n",
       "12  74 -0.008313\n",
       "13  76 -0.008319\n",
       "4   58 -0.008327\n",
       "15  80 -0.008338\n",
       "16  82 -0.008347\n",
       "5   60 -0.008351\n",
       "9   68 -0.008363\n",
       "8   66 -0.008363\n",
       "6   62 -0.008363\n",
       "17  84 -0.008370\n",
       "19  88 -0.008377\n",
       "7   64 -0.008380\n",
       "20  90 -0.008400\n",
       "18  86 -0.008403\n",
       "21  92 -0.008418\n",
       "23  96 -0.008424\n",
       "24  98 -0.008424\n",
       "22  94 -0.008425\n",
       "3   56 -0.008547\n",
       "2   54 -0.008595\n",
       "1   52 -0.008611\n",
       "0   50 -0.008925"
      ]
     },
     "execution_count": 112,
     "metadata": {},
     "output_type": "execute_result"
    }
   ],
   "source": [
    "reduce_features = pd.DataFrame(new_result)\n",
    "reduce_features.sort_values(by=1, ascending=False).head(n=3)"
   ]
  },
  {
   "cell_type": "code",
   "execution_count": 114,
   "metadata": {},
   "outputs": [
    {
     "name": "stdout",
     "output_type": "stream",
     "text": [
      "New train shape:  (1448, 72)\n",
      "New test shape:  (1459, 72)\n",
      "CV-results: [-0.00730669 -0.00842233 -0.00919485 -0.00804321 -0.00851966]\n",
      "Mean: -0.00829734680296722\n",
      "Accuracy_test:  0.12881373651670427\n",
      "Accuracy_train:  0.09820961229017051\n"
     ]
    }
   ],
   "source": [
    "# bay_stack log\n",
    "\n",
    "n_features_bay_stack = 72\n",
    "f_impo = feature_importances(n_features_bay_stack)\n",
    "data_for_answer = X.loc[:, f_impo]\n",
    "data_test_new = data_test.loc[:, f_impo]\n",
    "print('New train shape: ', data_for_answer.shape)\n",
    "print('New test shape: ', data_test_new.shape)\n",
    "X_train, X_test, y_train, y_test = train_test_split(data_for_answer, y, test_size=0.2, random_state=42, shuffle=True)\n",
    "bay_log_est = BayesianRidge(alpha_1=1e-07, alpha_2=0.001, compute_score=False, copy_X=True,\n",
    "       fit_intercept=True, lambda_1=0.001, lambda_2=1e-07, n_iter=100,\n",
    "       normalize=False, tol=0.01, verbose=False)\n",
    "\n",
    "bay_score = cross_val_score(estimator=bay_log_est, X=X_train, y=np.log1p(y_train), scoring=rmsle, cv=5)\n",
    "print('CV-results: {}'.format(bay_score))\n",
    "print('Mean: {}'.format(np.mean(bay_score)))\n",
    "bay_log_est.fit(X_train, np.log1p(y_train))\n",
    "print('Accuracy_test: ', RMSLE(np.expm1(bay_log_est.predict(X_test)), y_test))\n",
    "print('Accuracy_train: ', RMSLE(np.expm1(bay_log_est.predict(X_train)), y_train))"
   ]
  },
  {
   "cell_type": "raw",
   "metadata": {},
   "source": [
    "New train shape:  (1448, 72)\n",
    "New test shape:  (1459, 72)\n",
    "CV-results: [-0.00730669 -0.00842233 -0.00919485 -0.00804321 -0.00851966]\n",
    "Mean: -0.00829734680296722\n",
    "Accuracy_test:  0.12881373651670427\n",
    "Accuracy_train:  0.09820961229017051"
   ]
  },
  {
   "cell_type": "markdown",
   "metadata": {},
   "source": [
    "## Stacking"
   ]
  },
  {
   "cell_type": "code",
   "execution_count": 376,
   "metadata": {},
   "outputs": [],
   "source": [
    "stacked_features_train = pd.DataFrame(index=X_train.index, columns=['Xgboost', 'BayesianReg', 'KernelRidge'])\n",
    "stacked_features_test = pd.DataFrame(index=X_test.index, columns=['Xgboost', 'BayesianReg', 'KernelRidge'])\n",
    "stacked_features_answer = pd.DataFrame(index=data_test_new.index, columns=['Xgboost', 'BayesianReg', 'KernelRidge'])"
   ]
  },
  {
   "cell_type": "code",
   "execution_count": 377,
   "metadata": {},
   "outputs": [
    {
     "name": "stdout",
     "output_type": "stream",
     "text": [
      "New train shape:  (1448, 244)\n",
      "New test shape:  (1459, 244)\n",
      "Accuracy_test:  0.12927572631157971\n",
      "Accuracy_train:  0.05845277532045836\n"
     ]
    }
   ],
   "source": [
    "# xgboost_stack\n",
    "\n",
    "n_features_ker_ridge_stack = 244 \n",
    "f_impo = feature_importances(n_features_ker_ridge_stack)\n",
    "data_for_answer = X.loc[:, f_impo]\n",
    "data_test_new = data_test.loc[:, f_impo]\n",
    "print('New train shape: ', data_for_answer.shape)\n",
    "print('New test shape: ', data_test_new.shape)\n",
    "X_train, X_test, y_train, y_test = train_test_split(data_for_answer, y, test_size=0.2, random_state=42, shuffle=True)\n",
    "\n",
    "xgboost_opt = XGBRegressor(\n",
    "     learning_rate = 0.1 / 7, \n",
    "     n_estimators = 130 * 7, \n",
    "     max_depth = 4, \n",
    "     min_child_weight = 1, \n",
    "     gamma = 0, \n",
    "     subsample = 0.6, \n",
    "     colsample_bytree = 0.6,\n",
    "     reg_alpha = 1e-3,\n",
    "     reg_lambda = 1.5,\n",
    "     n_jobs = -1,\n",
    "     scale_pos_weight = 1,\n",
    "     random_state=42)\n",
    "xgboost_opt.fit(X_train, y_train)\n",
    "print('Accuracy_test: ', RMSLE(xgboost_opt.predict(X_test), y_test))\n",
    "print('Accuracy_train: ', RMSLE(xgboost_opt.predict(X_train), y_train))"
   ]
  },
  {
   "cell_type": "code",
   "execution_count": 378,
   "metadata": {},
   "outputs": [
    {
     "name": "stdout",
     "output_type": "stream",
     "text": [
      "            Xgboost BayesianReg KernelRidge\n",
      "480   333295.000000         NaN         NaN\n",
      "1441  125802.515625         NaN         NaN\n",
      "382   208843.843750         NaN         NaN\n",
      "1097  171084.828125         NaN         NaN\n",
      "1133  104422.351562         NaN         NaN\n",
      "            Xgboost BayesianReg KernelRidge\n",
      "1029  248771.109375         NaN         NaN\n",
      "383    86658.335938         NaN         NaN\n",
      "849   201144.187500         NaN         NaN\n",
      "429   184013.796875         NaN         NaN\n",
      "194   122650.718750         NaN         NaN\n",
      "            Xgboost BayesianReg KernelRidge\n",
      "1456  120296.835938         NaN         NaN\n",
      "1457  157471.265625         NaN         NaN\n",
      "1458  179148.921875         NaN         NaN\n",
      "1459  193358.171875         NaN         NaN\n",
      "1460  184363.359375         NaN         NaN\n"
     ]
    }
   ],
   "source": [
    "stacked_features_train['Xgboost'] = xgboost_opt.predict(X_train)\n",
    "stacked_features_test['Xgboost'] = xgboost_opt.predict(X_test)\n",
    "stacked_features_answer['Xgboost'] = xgboost_opt.predict(data_test_new)\n",
    "print(stacked_features_train.head())\n",
    "print(stacked_features_test.head())\n",
    "print(stacked_features_answer.head())"
   ]
  },
  {
   "cell_type": "code",
   "execution_count": 379,
   "metadata": {},
   "outputs": [
    {
     "name": "stdout",
     "output_type": "stream",
     "text": [
      "New train shape:  (1448, 72)\n",
      "New test shape:  (1459, 72)\n",
      "Accuracy_test:  0.12881373651670427\n",
      "Accuracy_train:  0.09820961229017051\n"
     ]
    }
   ],
   "source": [
    "# bay_stack log\n",
    "\n",
    "n_features_bay_stack = 72\n",
    "f_impo = feature_importances(n_features_bay_stack)\n",
    "data_for_answer = X.loc[:, f_impo]\n",
    "data_test_new = data_test.loc[:, f_impo]\n",
    "print('New train shape: ', data_for_answer.shape)\n",
    "print('New test shape: ', data_test_new.shape)\n",
    "X_train, X_test, y_train, y_test = train_test_split(data_for_answer, y, test_size=0.2, random_state=42, shuffle=True)\n",
    "bay_log_est = BayesianRidge(alpha_1=1e-07, alpha_2=0.001, compute_score=False, copy_X=True,\n",
    "       fit_intercept=True, lambda_1=0.001, lambda_2=1e-07, n_iter=100,\n",
    "       normalize=False, tol=0.01, verbose=False)\n",
    "\n",
    "bay_log_est.fit(X_train, np.log1p(y_train))\n",
    "print('Accuracy_test: ', RMSLE(np.expm1(bay_log_est.predict(X_test)), y_test))\n",
    "print('Accuracy_train: ', RMSLE(np.expm1(bay_log_est.predict(X_train)), y_train))"
   ]
  },
  {
   "cell_type": "code",
   "execution_count": 380,
   "metadata": {},
   "outputs": [
    {
     "name": "stdout",
     "output_type": "stream",
     "text": [
      "            Xgboost    BayesianReg KernelRidge\n",
      "480   333295.000000  341600.819062         NaN\n",
      "1441  125802.515625  123942.140190         NaN\n",
      "382   208843.843750  203275.067004         NaN\n",
      "1097  171084.828125  163776.105854         NaN\n",
      "1133  104422.351562   99998.081217         NaN\n",
      "            Xgboost    BayesianReg KernelRidge\n",
      "1029  248771.109375  232449.693799         NaN\n",
      "383    86658.335938   84520.900906         NaN\n",
      "849   201144.187500  190372.227660         NaN\n",
      "429   184013.796875  192841.366187         NaN\n",
      "194   122650.718750  121065.691389         NaN\n",
      "            Xgboost    BayesianReg KernelRidge\n",
      "1456  120296.835938  117554.606977         NaN\n",
      "1457  157471.265625  155860.777290         NaN\n",
      "1458  179148.921875  181606.269788         NaN\n",
      "1459  193358.171875  195701.917801         NaN\n",
      "1460  184363.359375  192022.225347         NaN\n"
     ]
    }
   ],
   "source": [
    "stacked_features_train['BayesianReg'] = np.expm1(bay_log_est.predict(X_train))\n",
    "stacked_features_test['BayesianReg'] = np.expm1(bay_log_est.predict(X_test))\n",
    "stacked_features_answer['BayesianReg'] = np.expm1(bay_log_est.predict(data_test_new))\n",
    "print(stacked_features_train.head())\n",
    "print(stacked_features_test.head())\n",
    "print(stacked_features_answer.head())"
   ]
  },
  {
   "cell_type": "code",
   "execution_count": 381,
   "metadata": {},
   "outputs": [
    {
     "name": "stdout",
     "output_type": "stream",
     "text": [
      "New train shape:  (1448, 154)\n",
      "New test shape:  (1459, 154)\n",
      "Accuracy_test:  0.12665956195783387\n",
      "Accuracy_train:  0.08573933293581593\n"
     ]
    }
   ],
   "source": [
    "# ker_ridge_stack\n",
    "\n",
    "n_features_ker_ridge_stack = 154 \n",
    "f_impo = feature_importances(n_features_ker_ridge_stack)\n",
    "data_for_answer = X.loc[:, f_impo]\n",
    "data_test_new = data_test.loc[:, f_impo]\n",
    "print('New train shape: ', data_for_answer.shape)\n",
    "print('New test shape: ', data_test_new.shape)\n",
    "X_train, X_test, y_train, y_test = train_test_split(data_for_answer, y, test_size=0.2, random_state=42, shuffle=True)\n",
    "\n",
    "ker_ridge_est_stack = KernelRidge(alpha=0.1, coef0=1, degree=5, gamma=0.001, kernel='poly', kernel_params=None)\n",
    "ker_ridge_est_stack.fit(X_train, y_train)\n",
    "print('Accuracy_test: ', RMSLE(ker_ridge_est_stack.predict(X_test), y_test))\n",
    "print('Accuracy_train: ', RMSLE(ker_ridge_est_stack.predict(X_train), y_train))"
   ]
  },
  {
   "cell_type": "code",
   "execution_count": 382,
   "metadata": {},
   "outputs": [
    {
     "name": "stdout",
     "output_type": "stream",
     "text": [
      "            Xgboost    BayesianReg    KernelRidge\n",
      "480   333295.000000  341600.819062  343822.631876\n",
      "1441  125802.515625  123942.140190  122377.007105\n",
      "382   208843.843750  203275.067004  203169.596272\n",
      "1097  171084.828125  163776.105854  169449.424319\n",
      "1133  104422.351562   99998.081217  108541.757066\n",
      "            Xgboost    BayesianReg    KernelRidge\n",
      "1029  248771.109375  232449.693799  217521.424901\n",
      "383    86658.335938   84520.900906   82085.553225\n",
      "849   201144.187500  190372.227660  194616.085099\n",
      "429   184013.796875  192841.366187  197736.337640\n",
      "194   122650.718750  121065.691389  119534.348182\n",
      "            Xgboost    BayesianReg    KernelRidge\n",
      "1456  120296.835938  117554.606977  117612.865450\n",
      "1457  157471.265625  155860.777290  161420.130451\n",
      "1458  179148.921875  181606.269788  185352.085164\n",
      "1459  193358.171875  195701.917801  193052.692229\n",
      "1460  184363.359375  192022.225347  186580.114398\n"
     ]
    }
   ],
   "source": [
    "stacked_features_train['KernelRidge'] = ker_ridge_est_stack.predict(X_train)\n",
    "stacked_features_test['KernelRidge'] = ker_ridge_est_stack.predict(X_test)\n",
    "stacked_features_answer['KernelRidge'] = ker_ridge_est_stack.predict(data_test_new)\n",
    "print(stacked_features_train.head())\n",
    "print(stacked_features_test.head())\n",
    "print(stacked_features_answer.head())"
   ]
  },
  {
   "cell_type": "code",
   "execution_count": 383,
   "metadata": {},
   "outputs": [
    {
     "name": "stdout",
     "output_type": "stream",
     "text": [
      "Stacked train size:  (1158, 3)\n",
      "Stacked test size:  (290, 3)\n",
      "Stacked answer size:  (1459, 3)\n",
      "(1158,)\n",
      "(290,)\n"
     ]
    }
   ],
   "source": [
    "np.sum(np.sum(stacked_features_train.isna()))\n",
    "np.sum(np.sum(stacked_features_answer.isna()))\n",
    "np.sum(np.sum(stacked_features_test.isna()))\n",
    "print('Stacked train size: ', stacked_features_train.shape)\n",
    "print('Stacked test size: ', stacked_features_test.shape)\n",
    "print('Stacked answer size: ', stacked_features_answer.shape)\n",
    "print(y_train.shape)\n",
    "print(y_test.shape)"
   ]
  },
  {
   "cell_type": "code",
   "execution_count": 387,
   "metadata": {},
   "outputs": [
    {
     "name": "stdout",
     "output_type": "stream",
     "text": [
      "[-0.04965021 -0.05999403 -0.06691064 -0.06108052 -0.06019432]\n",
      "-0.05956594326288611\n"
     ]
    },
    {
     "data": {
      "text/plain": [
       "0.13185052280854048"
      ]
     },
     "execution_count": 387,
     "metadata": {},
     "output_type": "execute_result"
    }
   ],
   "source": [
    "meta_model = XGBRegressor(max_depth=4, learning_rate=0.01, n_estimators=500, silent=True)\n",
    "meta_scores = cross_val_score(estimator=meta_model, X=stacked_features_train, y=y_train, scoring=rmsle, cv=5)\n",
    "print(meta_scores)\n",
    "print(np.mean(meta_scores))\n",
    "meta_model.fit(stacked_features_train, y_train)\n",
    "RMSLE(meta_model.predict(stacked_features_test), y_test)"
   ]
  },
  {
   "cell_type": "code",
   "execution_count": 389,
   "metadata": {},
   "outputs": [
    {
     "name": "stdout",
     "output_type": "stream",
     "text": [
      "('Xgboost', 0.75352114)\n",
      "('BayesianReg', 0.16060251)\n",
      "('KernelRidge', 0.08587637)\n"
     ]
    }
   ],
   "source": [
    "for i in zip(stacked_features_train, meta_model.feature_importances_):\n",
    "    print(i)"
   ]
  },
  {
   "cell_type": "code",
   "execution_count": null,
   "metadata": {},
   "outputs": [],
   "source": [
    "RMSLE(stacked_features_test), y_test)"
   ]
  },
  {
   "cell_type": "code",
   "execution_count": 391,
   "metadata": {},
   "outputs": [],
   "source": [
    "test_answ = 0.75352114 * stacked_features_test['Xgboost'] + 0.16060251 * stacked_features_test['BayesianReg'] + 0.08587637 * stacked_features_test['KernelRidge']"
   ]
  },
  {
   "cell_type": "code",
   "execution_count": 392,
   "metadata": {},
   "outputs": [
    {
     "data": {
      "text/plain": [
       "0.1265648843908052"
      ]
     },
     "execution_count": 392,
     "metadata": {},
     "output_type": "execute_result"
    }
   ],
   "source": [
    "RMSLE(test_answ, y_test)"
   ]
  },
  {
   "cell_type": "code",
   "execution_count": 393,
   "metadata": {},
   "outputs": [
    {
     "data": {
      "text/plain": [
       "-1"
      ]
     },
     "execution_count": 393,
     "metadata": {},
     "output_type": "execute_result"
    }
   ],
   "source": [
    "RMSLE(np.mean(stacked_features_answer, axis=1), y_test)"
   ]
  },
  {
   "cell_type": "code",
   "execution_count": 395,
   "metadata": {},
   "outputs": [
    {
     "data": {
      "text/plain": [
       "1456    118488.102788\n",
       "1457    158250.724455\n",
       "1458    182035.758942\n",
       "1459    194037.593968\n",
       "1460    187655.233040\n",
       "1461    173348.481784\n",
       "1462    175912.198670\n",
       "1463    163705.926756\n",
       "1464    194607.968713\n",
       "1465    120656.802247\n",
       "1466    195177.444935\n",
       "1467     94644.384939\n",
       "1468     96346.017797\n",
       "1469    151397.044519\n",
       "1470    116797.549599\n",
       "1471    372576.179161\n",
       "1472    247579.433400\n",
       "1473    273693.729502\n",
       "1474    287507.814296\n",
       "1475    503771.058046\n",
       "1476    327721.063141\n",
       "1477    205389.714325\n",
       "1478    174363.294530\n",
       "1479    160808.868008\n",
       "1480    176615.376528\n",
       "1481    194709.127015\n",
       "1482    351012.836282\n",
       "1483    244278.417174\n",
       "1484    203146.367010\n",
       "1485    221168.536820\n",
       "            ...      \n",
       "2885     80880.409528\n",
       "2886    138080.963870\n",
       "2887     49189.015139\n",
       "2888     80409.131660\n",
       "2889     54329.994587\n",
       "2890    322904.725736\n",
       "2891    279938.322221\n",
       "2892    207544.895812\n",
       "2893    152173.968753\n",
       "2894    206342.405311\n",
       "2895    162881.926061\n",
       "2896    208806.486308\n",
       "2897    195011.162851\n",
       "2898    341103.952536\n",
       "2899    347628.747090\n",
       "2900     89080.249806\n",
       "2901    203000.468913\n",
       "2902    111621.441721\n",
       "2903    127926.340800\n",
       "2904    144057.587439\n",
       "2905     83773.935255\n",
       "2906     87061.828406\n",
       "2907    149270.562626\n",
       "2908     80440.821123\n",
       "2909     81705.073895\n",
       "2910     89197.342356\n",
       "2911     80418.178193\n",
       "2912    153695.209451\n",
       "2913    119184.884577\n",
       "2914    234236.007792\n",
       "Length: 1459, dtype: float64"
      ]
     },
     "execution_count": 395,
     "metadata": {},
     "output_type": "execute_result"
    }
   ],
   "source": [
    "np.mean(stacked_features_answer, axis=1)"
   ]
  },
  {
   "cell_type": "markdown",
   "metadata": {},
   "source": [
    "# Again and again answer"
   ]
  },
  {
   "cell_type": "code",
   "execution_count": null,
   "metadata": {},
   "outputs": [],
   "source": [
    "f_impo = feature_importances(100)\n",
    "data_for_answer = X.loc[:, f_impo]\n",
    "data_for_answer.shape"
   ]
  },
  {
   "cell_type": "code",
   "execution_count": null,
   "metadata": {},
   "outputs": [],
   "source": [
    "X_train, X_test, y_train, y_test = train_test_split(data_for_answer, y, test_size=0.2, random_state=42, shuffle=True)"
   ]
  },
  {
   "cell_type": "code",
   "execution_count": null,
   "metadata": {},
   "outputs": [],
   "source": [
    "xgboost_opt = XGBRegressor(\n",
    "     learning_rate = 0.1 / 9, \n",
    "     n_estimators = 130 * 9, \n",
    "     max_depth = 4, \n",
    "     min_child_weight = 1, \n",
    "     gamma = 0.0001, \n",
    "     subsample = 0.6, \n",
    "     colsample_bytree = 0.6,\n",
    "     reg_alpha = 0.01,\n",
    "     reg_lambda = 0.99,\n",
    "     n_jobs = -1,\n",
    "     scale_pos_weight = 1,\n",
    "     random_state=42)\n",
    "xgboost_score = cross_val_score(estimator=xgboost_opt, X=X_train, y=y_train, scoring=rmsle, cv=5)\n",
    "print('CV-results: {}'.format(xgboost_score))\n",
    "print('Mean: {}'.format(np.mean(xgboost_score)))"
   ]
  },
  {
   "cell_type": "code",
   "execution_count": null,
   "metadata": {},
   "outputs": [],
   "source": [
    "xgboost_opt.fit(X_train, y_train)\n",
    "print('Accuracy_test: ', RMSLE(xgboost_opt.predict(X_test), y_test))\n",
    "print('Accuracy_train: ', RMSLE(xgboost_opt.predict(X_train), y_train))"
   ]
  },
  {
   "cell_type": "raw",
   "metadata": {},
   "source": [
    "Accuracy_test:  0.12976749854679673\n",
    "Accuracy_train:  0.059184191623988185"
   ]
  },
  {
   "cell_type": "code",
   "execution_count": 404,
   "metadata": {},
   "outputs": [],
   "source": [
    "test_answ = 0.75352114 * stacked_features_answer['Xgboost'] + 0.16060251 * stacked_features_answer['BayesianReg'] + 0.08587637 * stacked_features_answer['KernelRidge']"
   ]
  },
  {
   "cell_type": "code",
   "execution_count": 420,
   "metadata": {},
   "outputs": [],
   "source": [
    "to_file = pd.DataFrame()\n",
    "to_file['Id'] = test_ids\n",
    "to_file['SalePrice'] = test_answ.values\n",
    "to_file.to_csv(path_or_buf=\"answer_linear.csv\", sep=',', header=True, index=False)"
   ]
  },
  {
   "cell_type": "code",
   "execution_count": 421,
   "metadata": {},
   "outputs": [
    {
     "data": {
      "text/html": [
       "<div>\n",
       "<style scoped>\n",
       "    .dataframe tbody tr th:only-of-type {\n",
       "        vertical-align: middle;\n",
       "    }\n",
       "\n",
       "    .dataframe tbody tr th {\n",
       "        vertical-align: top;\n",
       "    }\n",
       "\n",
       "    .dataframe thead th {\n",
       "        text-align: right;\n",
       "    }\n",
       "</style>\n",
       "<table border=\"1\" class=\"dataframe\">\n",
       "  <thead>\n",
       "    <tr style=\"text-align: right;\">\n",
       "      <th></th>\n",
       "      <th>Id</th>\n",
       "      <th>SalePrice</th>\n",
       "    </tr>\n",
       "  </thead>\n",
       "  <tbody>\n",
       "    <tr>\n",
       "      <th>0</th>\n",
       "      <td>1461</td>\n",
       "      <td>119625.941830</td>\n",
       "    </tr>\n",
       "    <tr>\n",
       "      <th>1</th>\n",
       "      <td>1462</td>\n",
       "      <td>157551.736579</td>\n",
       "    </tr>\n",
       "    <tr>\n",
       "      <th>2</th>\n",
       "      <td>1463</td>\n",
       "      <td>180076.287005</td>\n",
       "    </tr>\n",
       "    <tr>\n",
       "      <th>3</th>\n",
       "      <td>1464</td>\n",
       "      <td>193708.352388</td>\n",
       "    </tr>\n",
       "    <tr>\n",
       "      <th>4</th>\n",
       "      <td>1465</td>\n",
       "      <td>185783.761805</td>\n",
       "    </tr>\n",
       "    <tr>\n",
       "      <th>5</th>\n",
       "      <td>1466</td>\n",
       "      <td>171805.504967</td>\n",
       "    </tr>\n",
       "    <tr>\n",
       "      <th>6</th>\n",
       "      <td>1467</td>\n",
       "      <td>174752.312948</td>\n",
       "    </tr>\n",
       "    <tr>\n",
       "      <th>7</th>\n",
       "      <td>1468</td>\n",
       "      <td>166044.670676</td>\n",
       "    </tr>\n",
       "    <tr>\n",
       "      <th>8</th>\n",
       "      <td>1469</td>\n",
       "      <td>190893.059316</td>\n",
       "    </tr>\n",
       "    <tr>\n",
       "      <th>9</th>\n",
       "      <td>1470</td>\n",
       "      <td>119558.857783</td>\n",
       "    </tr>\n",
       "    <tr>\n",
       "      <th>10</th>\n",
       "      <td>1471</td>\n",
       "      <td>192213.826908</td>\n",
       "    </tr>\n",
       "    <tr>\n",
       "      <th>11</th>\n",
       "      <td>1472</td>\n",
       "      <td>92815.202549</td>\n",
       "    </tr>\n",
       "    <tr>\n",
       "      <th>12</th>\n",
       "      <td>1473</td>\n",
       "      <td>96548.340925</td>\n",
       "    </tr>\n",
       "    <tr>\n",
       "      <th>13</th>\n",
       "      <td>1474</td>\n",
       "      <td>155497.523304</td>\n",
       "    </tr>\n",
       "    <tr>\n",
       "      <th>14</th>\n",
       "      <td>1475</td>\n",
       "      <td>121030.130464</td>\n",
       "    </tr>\n",
       "    <tr>\n",
       "      <th>15</th>\n",
       "      <td>1476</td>\n",
       "      <td>378396.671241</td>\n",
       "    </tr>\n",
       "    <tr>\n",
       "      <th>16</th>\n",
       "      <td>1477</td>\n",
       "      <td>254228.922157</td>\n",
       "    </tr>\n",
       "    <tr>\n",
       "      <th>17</th>\n",
       "      <td>1478</td>\n",
       "      <td>279501.573741</td>\n",
       "    </tr>\n",
       "    <tr>\n",
       "      <th>18</th>\n",
       "      <td>1479</td>\n",
       "      <td>283627.545534</td>\n",
       "    </tr>\n",
       "    <tr>\n",
       "      <th>19</th>\n",
       "      <td>1480</td>\n",
       "      <td>491700.177645</td>\n",
       "    </tr>\n",
       "    <tr>\n",
       "      <th>20</th>\n",
       "      <td>1481</td>\n",
       "      <td>331253.507144</td>\n",
       "    </tr>\n",
       "    <tr>\n",
       "      <th>21</th>\n",
       "      <td>1482</td>\n",
       "      <td>203380.608527</td>\n",
       "    </tr>\n",
       "    <tr>\n",
       "      <th>22</th>\n",
       "      <td>1483</td>\n",
       "      <td>175844.407136</td>\n",
       "    </tr>\n",
       "    <tr>\n",
       "      <th>23</th>\n",
       "      <td>1484</td>\n",
       "      <td>161755.158619</td>\n",
       "    </tr>\n",
       "    <tr>\n",
       "      <th>24</th>\n",
       "      <td>1485</td>\n",
       "      <td>178805.900899</td>\n",
       "    </tr>\n",
       "    <tr>\n",
       "      <th>25</th>\n",
       "      <td>1486</td>\n",
       "      <td>195099.398236</td>\n",
       "    </tr>\n",
       "    <tr>\n",
       "      <th>26</th>\n",
       "      <td>1487</td>\n",
       "      <td>358746.717164</td>\n",
       "    </tr>\n",
       "    <tr>\n",
       "      <th>27</th>\n",
       "      <td>1488</td>\n",
       "      <td>243152.058023</td>\n",
       "    </tr>\n",
       "    <tr>\n",
       "      <th>28</th>\n",
       "      <td>1489</td>\n",
       "      <td>204360.111382</td>\n",
       "    </tr>\n",
       "    <tr>\n",
       "      <th>29</th>\n",
       "      <td>1490</td>\n",
       "      <td>212101.514676</td>\n",
       "    </tr>\n",
       "    <tr>\n",
       "      <th>...</th>\n",
       "      <td>...</td>\n",
       "      <td>...</td>\n",
       "    </tr>\n",
       "    <tr>\n",
       "      <th>1429</th>\n",
       "      <td>2890</td>\n",
       "      <td>81105.001257</td>\n",
       "    </tr>\n",
       "    <tr>\n",
       "      <th>1430</th>\n",
       "      <td>2891</td>\n",
       "      <td>139023.697702</td>\n",
       "    </tr>\n",
       "    <tr>\n",
       "      <th>1431</th>\n",
       "      <td>2892</td>\n",
       "      <td>49446.316880</td>\n",
       "    </tr>\n",
       "    <tr>\n",
       "      <th>1432</th>\n",
       "      <td>2893</td>\n",
       "      <td>83879.136594</td>\n",
       "    </tr>\n",
       "    <tr>\n",
       "      <th>1433</th>\n",
       "      <td>2894</td>\n",
       "      <td>48978.106204</td>\n",
       "    </tr>\n",
       "    <tr>\n",
       "      <th>1434</th>\n",
       "      <td>2895</td>\n",
       "      <td>323739.038267</td>\n",
       "    </tr>\n",
       "    <tr>\n",
       "      <th>1435</th>\n",
       "      <td>2896</td>\n",
       "      <td>281313.442982</td>\n",
       "    </tr>\n",
       "    <tr>\n",
       "      <th>1436</th>\n",
       "      <td>2897</td>\n",
       "      <td>210084.616291</td>\n",
       "    </tr>\n",
       "    <tr>\n",
       "      <th>1437</th>\n",
       "      <td>2898</td>\n",
       "      <td>151420.551946</td>\n",
       "    </tr>\n",
       "    <tr>\n",
       "      <th>1438</th>\n",
       "      <td>2899</td>\n",
       "      <td>207743.537059</td>\n",
       "    </tr>\n",
       "    <tr>\n",
       "      <th>1439</th>\n",
       "      <td>2900</td>\n",
       "      <td>163828.883392</td>\n",
       "    </tr>\n",
       "    <tr>\n",
       "      <th>1440</th>\n",
       "      <td>2901</td>\n",
       "      <td>214394.307255</td>\n",
       "    </tr>\n",
       "    <tr>\n",
       "      <th>1441</th>\n",
       "      <td>2902</td>\n",
       "      <td>187877.470469</td>\n",
       "    </tr>\n",
       "    <tr>\n",
       "      <th>1442</th>\n",
       "      <td>2903</td>\n",
       "      <td>339109.501004</td>\n",
       "    </tr>\n",
       "    <tr>\n",
       "      <th>1443</th>\n",
       "      <td>2904</td>\n",
       "      <td>342904.475708</td>\n",
       "    </tr>\n",
       "    <tr>\n",
       "      <th>1444</th>\n",
       "      <td>2905</td>\n",
       "      <td>84078.795293</td>\n",
       "    </tr>\n",
       "    <tr>\n",
       "      <th>1445</th>\n",
       "      <td>2906</td>\n",
       "      <td>201269.073476</td>\n",
       "    </tr>\n",
       "    <tr>\n",
       "      <th>1446</th>\n",
       "      <td>2907</td>\n",
       "      <td>109138.191610</td>\n",
       "    </tr>\n",
       "    <tr>\n",
       "      <th>1447</th>\n",
       "      <td>2908</td>\n",
       "      <td>130135.550504</td>\n",
       "    </tr>\n",
       "    <tr>\n",
       "      <th>1448</th>\n",
       "      <td>2909</td>\n",
       "      <td>142595.868114</td>\n",
       "    </tr>\n",
       "    <tr>\n",
       "      <th>1449</th>\n",
       "      <td>2910</td>\n",
       "      <td>85533.313426</td>\n",
       "    </tr>\n",
       "    <tr>\n",
       "      <th>1450</th>\n",
       "      <td>2911</td>\n",
       "      <td>84071.053305</td>\n",
       "    </tr>\n",
       "    <tr>\n",
       "      <th>1451</th>\n",
       "      <td>2912</td>\n",
       "      <td>148504.919340</td>\n",
       "    </tr>\n",
       "    <tr>\n",
       "      <th>1452</th>\n",
       "      <td>2913</td>\n",
       "      <td>82071.100621</td>\n",
       "    </tr>\n",
       "    <tr>\n",
       "      <th>1453</th>\n",
       "      <td>2914</td>\n",
       "      <td>79763.754370</td>\n",
       "    </tr>\n",
       "    <tr>\n",
       "      <th>1454</th>\n",
       "      <td>2915</td>\n",
       "      <td>85994.531702</td>\n",
       "    </tr>\n",
       "    <tr>\n",
       "      <th>1455</th>\n",
       "      <td>2916</td>\n",
       "      <td>81510.908018</td>\n",
       "    </tr>\n",
       "    <tr>\n",
       "      <th>1456</th>\n",
       "      <td>2917</td>\n",
       "      <td>152952.200062</td>\n",
       "    </tr>\n",
       "    <tr>\n",
       "      <th>1457</th>\n",
       "      <td>2918</td>\n",
       "      <td>118659.145249</td>\n",
       "    </tr>\n",
       "    <tr>\n",
       "      <th>1458</th>\n",
       "      <td>2919</td>\n",
       "      <td>231091.411142</td>\n",
       "    </tr>\n",
       "  </tbody>\n",
       "</table>\n",
       "<p>1459 rows × 2 columns</p>\n",
       "</div>"
      ],
      "text/plain": [
       "        Id      SalePrice\n",
       "0     1461  119625.941830\n",
       "1     1462  157551.736579\n",
       "2     1463  180076.287005\n",
       "3     1464  193708.352388\n",
       "4     1465  185783.761805\n",
       "5     1466  171805.504967\n",
       "6     1467  174752.312948\n",
       "7     1468  166044.670676\n",
       "8     1469  190893.059316\n",
       "9     1470  119558.857783\n",
       "10    1471  192213.826908\n",
       "11    1472   92815.202549\n",
       "12    1473   96548.340925\n",
       "13    1474  155497.523304\n",
       "14    1475  121030.130464\n",
       "15    1476  378396.671241\n",
       "16    1477  254228.922157\n",
       "17    1478  279501.573741\n",
       "18    1479  283627.545534\n",
       "19    1480  491700.177645\n",
       "20    1481  331253.507144\n",
       "21    1482  203380.608527\n",
       "22    1483  175844.407136\n",
       "23    1484  161755.158619\n",
       "24    1485  178805.900899\n",
       "25    1486  195099.398236\n",
       "26    1487  358746.717164\n",
       "27    1488  243152.058023\n",
       "28    1489  204360.111382\n",
       "29    1490  212101.514676\n",
       "...    ...            ...\n",
       "1429  2890   81105.001257\n",
       "1430  2891  139023.697702\n",
       "1431  2892   49446.316880\n",
       "1432  2893   83879.136594\n",
       "1433  2894   48978.106204\n",
       "1434  2895  323739.038267\n",
       "1435  2896  281313.442982\n",
       "1436  2897  210084.616291\n",
       "1437  2898  151420.551946\n",
       "1438  2899  207743.537059\n",
       "1439  2900  163828.883392\n",
       "1440  2901  214394.307255\n",
       "1441  2902  187877.470469\n",
       "1442  2903  339109.501004\n",
       "1443  2904  342904.475708\n",
       "1444  2905   84078.795293\n",
       "1445  2906  201269.073476\n",
       "1446  2907  109138.191610\n",
       "1447  2908  130135.550504\n",
       "1448  2909  142595.868114\n",
       "1449  2910   85533.313426\n",
       "1450  2911   84071.053305\n",
       "1451  2912  148504.919340\n",
       "1452  2913   82071.100621\n",
       "1453  2914   79763.754370\n",
       "1454  2915   85994.531702\n",
       "1455  2916   81510.908018\n",
       "1456  2917  152952.200062\n",
       "1457  2918  118659.145249\n",
       "1458  2919  231091.411142\n",
       "\n",
       "[1459 rows x 2 columns]"
      ]
     },
     "execution_count": 421,
     "metadata": {},
     "output_type": "execute_result"
    }
   ],
   "source": [
    "to_file"
   ]
  },
  {
   "cell_type": "code",
   "execution_count": null,
   "metadata": {},
   "outputs": [],
   "source": []
  }
 ],
 "metadata": {
  "kernelspec": {
   "display_name": "Python 3",
   "language": "python",
   "name": "python3"
  },
  "language_info": {
   "codemirror_mode": {
    "name": "ipython",
    "version": 3
   },
   "file_extension": ".py",
   "mimetype": "text/x-python",
   "name": "python",
   "nbconvert_exporter": "python",
   "pygments_lexer": "ipython3",
   "version": "3.8.5"
  }
 },
 "nbformat": 4,
 "nbformat_minor": 2
}
